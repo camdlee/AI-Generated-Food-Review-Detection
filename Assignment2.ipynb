{
 "cells": [
  {
   "metadata": {},
   "cell_type": "markdown",
   "source": [
    "### Assignment 2\n",
    "The goal is to detect whether food reviews (paired with images) are AI-generated or authentic using supervised machine learning techniques.\n",
    "We are required to use both textual features and image data to train and evaluate models"
   ],
   "id": "b76f1fa90410c2b1"
  },
  {
   "metadata": {},
   "cell_type": "markdown",
   "source": "### Data Preparation",
   "id": "1e9f1cd641c3224"
  },
  {
   "metadata": {
    "ExecuteTime": {
     "end_time": "2025-04-25T15:59:26.329797Z",
     "start_time": "2025-04-25T15:59:24.708230Z"
    }
   },
   "cell_type": "code",
   "source": [
    "from xml.sax.handler import all_features\n",
    "\n",
    "import pandas as pd\n",
    "import numpy as np\n",
    "import matplotlib.pyplot as plt\n",
    "import sklearn as sk"
   ],
   "id": "73038354ab4bc86a",
   "outputs": [],
   "execution_count": 1
  },
  {
   "metadata": {
    "ExecuteTime": {
     "end_time": "2025-04-25T15:59:26.639118Z",
     "start_time": "2025-04-25T15:59:26.346949Z"
    }
   },
   "cell_type": "code",
   "source": [
    "train_df = pd.read_csv('train.csv')\n",
    "test_df = pd.read_csv('test.csv')\n",
    "val_df = pd.read_csv('val.csv')"
   ],
   "id": "dd707a809844e35d",
   "outputs": [],
   "execution_count": 2
  },
  {
   "metadata": {
    "ExecuteTime": {
     "end_time": "2025-04-25T15:59:27.753323Z",
     "start_time": "2025-04-25T15:59:27.721994Z"
    }
   },
   "cell_type": "code",
   "source": "train_df.head()",
   "id": "67e5f729d70cb927",
   "outputs": [
    {
     "data": {
      "text/plain": [
       "      ID                                               text  label  \\\n",
       "0   9594  Such a big fan of Bodega Negra! I came here wi...      0   \n",
       "1  15465  Title: Hit and Miss at Local Eatery\\n\\nAs some...      1   \n",
       "2   3721  I recently dined at this gem of a Japanese res...      1   \n",
       "3  19513  Title: A NYC Gem for Theatergoers\\n\\nIf you fi...      1   \n",
       "4   2284  Title: A Sweet Symphony at Dessert Haven\\n\\nDe...      1   \n",
       "\n",
       "   automated_readability_index  difficult_words  flesch_reading_ease  \\\n",
       "0                          6.9               14                80.21   \n",
       "1                         13.1               38                51.58   \n",
       "2                         14.0               47                52.70   \n",
       "3                         11.9               27                61.56   \n",
       "4                         11.3               29                71.24   \n",
       "\n",
       "   gunning_fog  words_per_sentence  reading_time        ppl  ...          cd  \\\n",
       "0         7.48           16.375000          8.23  38.797530  ...   53.568900   \n",
       "1        12.94           19.625000         12.12  35.623623  ...  140.707590   \n",
       "2        13.62           18.500000         12.08  34.312195  ...   89.987422   \n",
       "3        11.65           18.142857          9.61  53.371510  ...  166.635662   \n",
       "4        10.32           16.875000         10.22  34.229725  ...   70.534911   \n",
       "\n",
       "          td  diag_dom    rot       hpvb       vpvb      hcvb      vcvb  \\\n",
       "0   2.868489     -93.0  -93.0  -7.193224 -18.369119 -0.424541 -0.437290   \n",
       "1  11.558799      -5.0  -81.0 -17.480599  -8.923278 -0.451880 -0.484037   \n",
       "2   0.239884     -25.0  -61.0 -15.080140 -13.399013 -0.509096 -0.461333   \n",
       "3   9.244024    -100.0 -100.0 -12.134820 -10.608154 -0.460336 -0.487629   \n",
       "4   2.094008      -6.0  -86.0  -8.924436  -7.103854 -0.504275 -0.488288   \n",
       "\n",
       "          sat      clar  \n",
       "0  135.623500  0.259811  \n",
       "1   19.407547  0.189285  \n",
       "2  127.513199  0.713135  \n",
       "3  142.876648  0.330338  \n",
       "4  122.347168  0.686020  \n",
       "\n",
       "[5 rows x 25 columns]"
      ],
      "text/html": [
       "<div>\n",
       "<style scoped>\n",
       "    .dataframe tbody tr th:only-of-type {\n",
       "        vertical-align: middle;\n",
       "    }\n",
       "\n",
       "    .dataframe tbody tr th {\n",
       "        vertical-align: top;\n",
       "    }\n",
       "\n",
       "    .dataframe thead th {\n",
       "        text-align: right;\n",
       "    }\n",
       "</style>\n",
       "<table border=\"1\" class=\"dataframe\">\n",
       "  <thead>\n",
       "    <tr style=\"text-align: right;\">\n",
       "      <th></th>\n",
       "      <th>ID</th>\n",
       "      <th>text</th>\n",
       "      <th>label</th>\n",
       "      <th>automated_readability_index</th>\n",
       "      <th>difficult_words</th>\n",
       "      <th>flesch_reading_ease</th>\n",
       "      <th>gunning_fog</th>\n",
       "      <th>words_per_sentence</th>\n",
       "      <th>reading_time</th>\n",
       "      <th>ppl</th>\n",
       "      <th>...</th>\n",
       "      <th>cd</th>\n",
       "      <th>td</th>\n",
       "      <th>diag_dom</th>\n",
       "      <th>rot</th>\n",
       "      <th>hpvb</th>\n",
       "      <th>vpvb</th>\n",
       "      <th>hcvb</th>\n",
       "      <th>vcvb</th>\n",
       "      <th>sat</th>\n",
       "      <th>clar</th>\n",
       "    </tr>\n",
       "  </thead>\n",
       "  <tbody>\n",
       "    <tr>\n",
       "      <th>0</th>\n",
       "      <td>9594</td>\n",
       "      <td>Such a big fan of Bodega Negra! I came here wi...</td>\n",
       "      <td>0</td>\n",
       "      <td>6.9</td>\n",
       "      <td>14</td>\n",
       "      <td>80.21</td>\n",
       "      <td>7.48</td>\n",
       "      <td>16.375000</td>\n",
       "      <td>8.23</td>\n",
       "      <td>38.797530</td>\n",
       "      <td>...</td>\n",
       "      <td>53.568900</td>\n",
       "      <td>2.868489</td>\n",
       "      <td>-93.0</td>\n",
       "      <td>-93.0</td>\n",
       "      <td>-7.193224</td>\n",
       "      <td>-18.369119</td>\n",
       "      <td>-0.424541</td>\n",
       "      <td>-0.437290</td>\n",
       "      <td>135.623500</td>\n",
       "      <td>0.259811</td>\n",
       "    </tr>\n",
       "    <tr>\n",
       "      <th>1</th>\n",
       "      <td>15465</td>\n",
       "      <td>Title: Hit and Miss at Local Eatery\\n\\nAs some...</td>\n",
       "      <td>1</td>\n",
       "      <td>13.1</td>\n",
       "      <td>38</td>\n",
       "      <td>51.58</td>\n",
       "      <td>12.94</td>\n",
       "      <td>19.625000</td>\n",
       "      <td>12.12</td>\n",
       "      <td>35.623623</td>\n",
       "      <td>...</td>\n",
       "      <td>140.707590</td>\n",
       "      <td>11.558799</td>\n",
       "      <td>-5.0</td>\n",
       "      <td>-81.0</td>\n",
       "      <td>-17.480599</td>\n",
       "      <td>-8.923278</td>\n",
       "      <td>-0.451880</td>\n",
       "      <td>-0.484037</td>\n",
       "      <td>19.407547</td>\n",
       "      <td>0.189285</td>\n",
       "    </tr>\n",
       "    <tr>\n",
       "      <th>2</th>\n",
       "      <td>3721</td>\n",
       "      <td>I recently dined at this gem of a Japanese res...</td>\n",
       "      <td>1</td>\n",
       "      <td>14.0</td>\n",
       "      <td>47</td>\n",
       "      <td>52.70</td>\n",
       "      <td>13.62</td>\n",
       "      <td>18.500000</td>\n",
       "      <td>12.08</td>\n",
       "      <td>34.312195</td>\n",
       "      <td>...</td>\n",
       "      <td>89.987422</td>\n",
       "      <td>0.239884</td>\n",
       "      <td>-25.0</td>\n",
       "      <td>-61.0</td>\n",
       "      <td>-15.080140</td>\n",
       "      <td>-13.399013</td>\n",
       "      <td>-0.509096</td>\n",
       "      <td>-0.461333</td>\n",
       "      <td>127.513199</td>\n",
       "      <td>0.713135</td>\n",
       "    </tr>\n",
       "    <tr>\n",
       "      <th>3</th>\n",
       "      <td>19513</td>\n",
       "      <td>Title: A NYC Gem for Theatergoers\\n\\nIf you fi...</td>\n",
       "      <td>1</td>\n",
       "      <td>11.9</td>\n",
       "      <td>27</td>\n",
       "      <td>61.56</td>\n",
       "      <td>11.65</td>\n",
       "      <td>18.142857</td>\n",
       "      <td>9.61</td>\n",
       "      <td>53.371510</td>\n",
       "      <td>...</td>\n",
       "      <td>166.635662</td>\n",
       "      <td>9.244024</td>\n",
       "      <td>-100.0</td>\n",
       "      <td>-100.0</td>\n",
       "      <td>-12.134820</td>\n",
       "      <td>-10.608154</td>\n",
       "      <td>-0.460336</td>\n",
       "      <td>-0.487629</td>\n",
       "      <td>142.876648</td>\n",
       "      <td>0.330338</td>\n",
       "    </tr>\n",
       "    <tr>\n",
       "      <th>4</th>\n",
       "      <td>2284</td>\n",
       "      <td>Title: A Sweet Symphony at Dessert Haven\\n\\nDe...</td>\n",
       "      <td>1</td>\n",
       "      <td>11.3</td>\n",
       "      <td>29</td>\n",
       "      <td>71.24</td>\n",
       "      <td>10.32</td>\n",
       "      <td>16.875000</td>\n",
       "      <td>10.22</td>\n",
       "      <td>34.229725</td>\n",
       "      <td>...</td>\n",
       "      <td>70.534911</td>\n",
       "      <td>2.094008</td>\n",
       "      <td>-6.0</td>\n",
       "      <td>-86.0</td>\n",
       "      <td>-8.924436</td>\n",
       "      <td>-7.103854</td>\n",
       "      <td>-0.504275</td>\n",
       "      <td>-0.488288</td>\n",
       "      <td>122.347168</td>\n",
       "      <td>0.686020</td>\n",
       "    </tr>\n",
       "  </tbody>\n",
       "</table>\n",
       "<p>5 rows × 25 columns</p>\n",
       "</div>"
      ]
     },
     "execution_count": 3,
     "metadata": {},
     "output_type": "execute_result"
    }
   ],
   "execution_count": 3
  },
  {
   "metadata": {
    "ExecuteTime": {
     "end_time": "2025-04-25T15:59:27.870465Z",
     "start_time": "2025-04-25T15:59:27.865143Z"
    }
   },
   "cell_type": "code",
   "source": "train_df.shape",
   "id": "7b3fa5b35e57c96a",
   "outputs": [
    {
     "data": {
      "text/plain": [
       "(12086, 25)"
      ]
     },
     "execution_count": 4,
     "metadata": {},
     "output_type": "execute_result"
    }
   ],
   "execution_count": 4
  },
  {
   "metadata": {
    "ExecuteTime": {
     "end_time": "2025-04-25T15:59:28.093717Z",
     "start_time": "2025-04-25T15:59:28.086675Z"
    }
   },
   "cell_type": "code",
   "source": "train_auth_df = train_df[train_df['label'] == 0]",
   "id": "2bb8fbd4dea317a3",
   "outputs": [],
   "execution_count": 5
  },
  {
   "metadata": {
    "ExecuteTime": {
     "end_time": "2025-04-25T15:59:28.304042Z",
     "start_time": "2025-04-25T15:59:28.298642Z"
    }
   },
   "cell_type": "code",
   "source": "train_auth_df.shape",
   "id": "966a490e0e8eab64",
   "outputs": [
    {
     "data": {
      "text/plain": [
       "(6138, 25)"
      ]
     },
     "execution_count": 6,
     "metadata": {},
     "output_type": "execute_result"
    }
   ],
   "execution_count": 6
  },
  {
   "metadata": {
    "ExecuteTime": {
     "end_time": "2025-04-25T15:59:28.662005Z",
     "start_time": "2025-04-25T15:59:28.656954Z"
    }
   },
   "cell_type": "code",
   "source": [
    "train_ai_df = train_df[train_df['label'] == 1]\n",
    "train_ai_df.shape\n",
    "# balanced training data between authentic and ai"
   ],
   "id": "f7a9440dd7bd228b",
   "outputs": [
    {
     "data": {
      "text/plain": [
       "(5948, 25)"
      ]
     },
     "execution_count": 7,
     "metadata": {},
     "output_type": "execute_result"
    }
   ],
   "execution_count": 7
  },
  {
   "metadata": {
    "ExecuteTime": {
     "end_time": "2025-04-25T15:59:28.940487Z",
     "start_time": "2025-04-25T15:59:28.925053Z"
    }
   },
   "cell_type": "code",
   "source": "test_df.head()",
   "id": "10f890d7ca0d167",
   "outputs": [
    {
     "data": {
      "text/plain": [
       "      ID                                               text  label  \\\n",
       "0  10379  Title: A Comforting Bite in the Bustling Chels...      1   \n",
       "1   1092  Title: A Fusion of Traditional and Trendy: Lit...      1   \n",
       "2   8924  The food is delicious and extremely flavorful....      0   \n",
       "3   1291  Okay, so I didn't expect much in terms of Kore...      0   \n",
       "4  13927  I recently visited the new Veggie Grill in NYC...      1   \n",
       "\n",
       "   automated_readability_index  difficult_words  flesch_reading_ease  \\\n",
       "0                         13.3               41                57.50   \n",
       "1                         13.8               66                57.81   \n",
       "2                          4.6               17                87.82   \n",
       "3                         11.1               25                74.22   \n",
       "4                          5.9               15                82.65   \n",
       "\n",
       "   gunning_fog  words_per_sentence  reading_time        ppl  ...          cd  \\\n",
       "0        12.68           22.125000         13.06  45.406254  ...  126.571031   \n",
       "1        12.52           21.846154         21.55  51.546368  ...   72.907475   \n",
       "2         5.06            8.866667          8.98  31.491344  ...   25.088095   \n",
       "3        10.89           22.300000         14.87  46.151300  ...   57.623184   \n",
       "4         7.39           14.000000          7.10  31.541600  ...   75.724269   \n",
       "\n",
       "         td  diag_dom   rot       hpvb       vpvb      hcvb      vcvb  \\\n",
       "0  7.734258     -84.0 -84.0  -9.534658 -13.406321 -0.478736 -0.479164   \n",
       "1  3.755775     -11.0 -69.0  -9.124638 -11.765252 -0.466770 -0.493706   \n",
       "2  2.868782     -87.0 -87.0  -5.179507 -10.939278 -0.427226 -0.399590   \n",
       "3  5.052148      -9.0 -93.0  -0.959575  -9.815594 -0.412599 -0.388622   \n",
       "4  4.432679      -8.0 -90.0 -19.718303 -14.559374 -0.510795 -0.499236   \n",
       "\n",
       "          sat      clar  \n",
       "0  116.099304  0.348221  \n",
       "1  138.977936  0.486588  \n",
       "2  127.128667  0.370689  \n",
       "3  118.317278  0.128122  \n",
       "4  160.949600  0.358078  \n",
       "\n",
       "[5 rows x 25 columns]"
      ],
      "text/html": [
       "<div>\n",
       "<style scoped>\n",
       "    .dataframe tbody tr th:only-of-type {\n",
       "        vertical-align: middle;\n",
       "    }\n",
       "\n",
       "    .dataframe tbody tr th {\n",
       "        vertical-align: top;\n",
       "    }\n",
       "\n",
       "    .dataframe thead th {\n",
       "        text-align: right;\n",
       "    }\n",
       "</style>\n",
       "<table border=\"1\" class=\"dataframe\">\n",
       "  <thead>\n",
       "    <tr style=\"text-align: right;\">\n",
       "      <th></th>\n",
       "      <th>ID</th>\n",
       "      <th>text</th>\n",
       "      <th>label</th>\n",
       "      <th>automated_readability_index</th>\n",
       "      <th>difficult_words</th>\n",
       "      <th>flesch_reading_ease</th>\n",
       "      <th>gunning_fog</th>\n",
       "      <th>words_per_sentence</th>\n",
       "      <th>reading_time</th>\n",
       "      <th>ppl</th>\n",
       "      <th>...</th>\n",
       "      <th>cd</th>\n",
       "      <th>td</th>\n",
       "      <th>diag_dom</th>\n",
       "      <th>rot</th>\n",
       "      <th>hpvb</th>\n",
       "      <th>vpvb</th>\n",
       "      <th>hcvb</th>\n",
       "      <th>vcvb</th>\n",
       "      <th>sat</th>\n",
       "      <th>clar</th>\n",
       "    </tr>\n",
       "  </thead>\n",
       "  <tbody>\n",
       "    <tr>\n",
       "      <th>0</th>\n",
       "      <td>10379</td>\n",
       "      <td>Title: A Comforting Bite in the Bustling Chels...</td>\n",
       "      <td>1</td>\n",
       "      <td>13.3</td>\n",
       "      <td>41</td>\n",
       "      <td>57.50</td>\n",
       "      <td>12.68</td>\n",
       "      <td>22.125000</td>\n",
       "      <td>13.06</td>\n",
       "      <td>45.406254</td>\n",
       "      <td>...</td>\n",
       "      <td>126.571031</td>\n",
       "      <td>7.734258</td>\n",
       "      <td>-84.0</td>\n",
       "      <td>-84.0</td>\n",
       "      <td>-9.534658</td>\n",
       "      <td>-13.406321</td>\n",
       "      <td>-0.478736</td>\n",
       "      <td>-0.479164</td>\n",
       "      <td>116.099304</td>\n",
       "      <td>0.348221</td>\n",
       "    </tr>\n",
       "    <tr>\n",
       "      <th>1</th>\n",
       "      <td>1092</td>\n",
       "      <td>Title: A Fusion of Traditional and Trendy: Lit...</td>\n",
       "      <td>1</td>\n",
       "      <td>13.8</td>\n",
       "      <td>66</td>\n",
       "      <td>57.81</td>\n",
       "      <td>12.52</td>\n",
       "      <td>21.846154</td>\n",
       "      <td>21.55</td>\n",
       "      <td>51.546368</td>\n",
       "      <td>...</td>\n",
       "      <td>72.907475</td>\n",
       "      <td>3.755775</td>\n",
       "      <td>-11.0</td>\n",
       "      <td>-69.0</td>\n",
       "      <td>-9.124638</td>\n",
       "      <td>-11.765252</td>\n",
       "      <td>-0.466770</td>\n",
       "      <td>-0.493706</td>\n",
       "      <td>138.977936</td>\n",
       "      <td>0.486588</td>\n",
       "    </tr>\n",
       "    <tr>\n",
       "      <th>2</th>\n",
       "      <td>8924</td>\n",
       "      <td>The food is delicious and extremely flavorful....</td>\n",
       "      <td>0</td>\n",
       "      <td>4.6</td>\n",
       "      <td>17</td>\n",
       "      <td>87.82</td>\n",
       "      <td>5.06</td>\n",
       "      <td>8.866667</td>\n",
       "      <td>8.98</td>\n",
       "      <td>31.491344</td>\n",
       "      <td>...</td>\n",
       "      <td>25.088095</td>\n",
       "      <td>2.868782</td>\n",
       "      <td>-87.0</td>\n",
       "      <td>-87.0</td>\n",
       "      <td>-5.179507</td>\n",
       "      <td>-10.939278</td>\n",
       "      <td>-0.427226</td>\n",
       "      <td>-0.399590</td>\n",
       "      <td>127.128667</td>\n",
       "      <td>0.370689</td>\n",
       "    </tr>\n",
       "    <tr>\n",
       "      <th>3</th>\n",
       "      <td>1291</td>\n",
       "      <td>Okay, so I didn't expect much in terms of Kore...</td>\n",
       "      <td>0</td>\n",
       "      <td>11.1</td>\n",
       "      <td>25</td>\n",
       "      <td>74.22</td>\n",
       "      <td>10.89</td>\n",
       "      <td>22.300000</td>\n",
       "      <td>14.87</td>\n",
       "      <td>46.151300</td>\n",
       "      <td>...</td>\n",
       "      <td>57.623184</td>\n",
       "      <td>5.052148</td>\n",
       "      <td>-9.0</td>\n",
       "      <td>-93.0</td>\n",
       "      <td>-0.959575</td>\n",
       "      <td>-9.815594</td>\n",
       "      <td>-0.412599</td>\n",
       "      <td>-0.388622</td>\n",
       "      <td>118.317278</td>\n",
       "      <td>0.128122</td>\n",
       "    </tr>\n",
       "    <tr>\n",
       "      <th>4</th>\n",
       "      <td>13927</td>\n",
       "      <td>I recently visited the new Veggie Grill in NYC...</td>\n",
       "      <td>1</td>\n",
       "      <td>5.9</td>\n",
       "      <td>15</td>\n",
       "      <td>82.65</td>\n",
       "      <td>7.39</td>\n",
       "      <td>14.000000</td>\n",
       "      <td>7.10</td>\n",
       "      <td>31.541600</td>\n",
       "      <td>...</td>\n",
       "      <td>75.724269</td>\n",
       "      <td>4.432679</td>\n",
       "      <td>-8.0</td>\n",
       "      <td>-90.0</td>\n",
       "      <td>-19.718303</td>\n",
       "      <td>-14.559374</td>\n",
       "      <td>-0.510795</td>\n",
       "      <td>-0.499236</td>\n",
       "      <td>160.949600</td>\n",
       "      <td>0.358078</td>\n",
       "    </tr>\n",
       "  </tbody>\n",
       "</table>\n",
       "<p>5 rows × 25 columns</p>\n",
       "</div>"
      ]
     },
     "execution_count": 8,
     "metadata": {},
     "output_type": "execute_result"
    }
   ],
   "execution_count": 8
  },
  {
   "metadata": {
    "ExecuteTime": {
     "end_time": "2025-04-25T15:59:29.095664Z",
     "start_time": "2025-04-25T15:59:29.088733Z"
    }
   },
   "cell_type": "code",
   "source": "test_df.shape",
   "id": "da1c6dab92beaac1",
   "outputs": [
    {
     "data": {
      "text/plain": [
       "(4030, 25)"
      ]
     },
     "execution_count": 9,
     "metadata": {},
     "output_type": "execute_result"
    }
   ],
   "execution_count": 9
  },
  {
   "metadata": {
    "ExecuteTime": {
     "end_time": "2025-04-25T15:59:29.377530Z",
     "start_time": "2025-04-25T15:59:29.368531Z"
    }
   },
   "cell_type": "code",
   "source": [
    "test_auth_df = test_df[test_df['label'] == 0]\n",
    "test_auth_df.shape\n",
    "# test dataset is balanced"
   ],
   "id": "9c5406bccdaf023d",
   "outputs": [
    {
     "data": {
      "text/plain": [
       "(1986, 25)"
      ]
     },
     "execution_count": 10,
     "metadata": {},
     "output_type": "execute_result"
    }
   ],
   "execution_count": 10
  },
  {
   "metadata": {
    "ExecuteTime": {
     "end_time": "2025-04-25T15:59:29.899320Z",
     "start_time": "2025-04-25T15:59:29.886293Z"
    }
   },
   "cell_type": "code",
   "source": "val_df.head()",
   "id": "f546861040cb582a",
   "outputs": [
    {
     "data": {
      "text/plain": [
       "      ID                                               text  label  \\\n",
       "0   8473  Title: A Tex-Mex Gem in the Heart of NY\\n\\nRev...      1   \n",
       "1  19945  On my third day of my birthday tour lands me t...      0   \n",
       "2  18034  Title: A Delightful Dive into Familiar Flavors...      1   \n",
       "3  12483  Everything about this spot is rave worthy. My ...      0   \n",
       "4  20613  As someone who isn't typically enamored with p...      1   \n",
       "\n",
       "   automated_readability_index  difficult_words  flesch_reading_ease  \\\n",
       "0                          9.9               25                67.79   \n",
       "1                          7.5               23                73.98   \n",
       "2                         14.3               62                51.58   \n",
       "3                          7.8               36                79.90   \n",
       "4                         13.1               26                50.57   \n",
       "\n",
       "   gunning_fog  words_per_sentence  reading_time         ppl  ...          cd  \\\n",
       "0        11.73           20.333333          8.06   27.816364  ...   34.301295   \n",
       "1         7.80           14.166667         11.59  100.894390  ...    3.618031   \n",
       "2        12.65           19.636364         17.44   40.648610  ...  166.413024   \n",
       "3         8.28           16.666667         16.26   55.507442  ...   87.969265   \n",
       "4        14.45           20.600000          7.79   20.933323  ...  116.635027   \n",
       "\n",
       "         td  diag_dom   rot       hpvb      vpvb      hcvb      vcvb  \\\n",
       "0  3.047547     -95.0 -95.0  -5.004369 -2.242933 -0.480481 -0.482286   \n",
       "1  4.733772     -26.0 -67.0  -0.525627 -2.499774 -0.703449 -0.568242   \n",
       "2  5.490789     -24.0 -88.0  -1.897878 -6.765047 -0.468379 -0.471397   \n",
       "3  0.314994       0.0 -67.0  -0.970034 -2.759893 -0.748109 -0.664823   \n",
       "4  4.674918       0.0 -94.0 -16.995421 -1.717933 -0.473619 -0.444959   \n",
       "\n",
       "          sat      clar  \n",
       "0  130.353531  0.587173  \n",
       "1  139.818117  0.076204  \n",
       "2  144.065948  0.710159  \n",
       "3  147.795895  0.043302  \n",
       "4  105.577576  0.367126  \n",
       "\n",
       "[5 rows x 25 columns]"
      ],
      "text/html": [
       "<div>\n",
       "<style scoped>\n",
       "    .dataframe tbody tr th:only-of-type {\n",
       "        vertical-align: middle;\n",
       "    }\n",
       "\n",
       "    .dataframe tbody tr th {\n",
       "        vertical-align: top;\n",
       "    }\n",
       "\n",
       "    .dataframe thead th {\n",
       "        text-align: right;\n",
       "    }\n",
       "</style>\n",
       "<table border=\"1\" class=\"dataframe\">\n",
       "  <thead>\n",
       "    <tr style=\"text-align: right;\">\n",
       "      <th></th>\n",
       "      <th>ID</th>\n",
       "      <th>text</th>\n",
       "      <th>label</th>\n",
       "      <th>automated_readability_index</th>\n",
       "      <th>difficult_words</th>\n",
       "      <th>flesch_reading_ease</th>\n",
       "      <th>gunning_fog</th>\n",
       "      <th>words_per_sentence</th>\n",
       "      <th>reading_time</th>\n",
       "      <th>ppl</th>\n",
       "      <th>...</th>\n",
       "      <th>cd</th>\n",
       "      <th>td</th>\n",
       "      <th>diag_dom</th>\n",
       "      <th>rot</th>\n",
       "      <th>hpvb</th>\n",
       "      <th>vpvb</th>\n",
       "      <th>hcvb</th>\n",
       "      <th>vcvb</th>\n",
       "      <th>sat</th>\n",
       "      <th>clar</th>\n",
       "    </tr>\n",
       "  </thead>\n",
       "  <tbody>\n",
       "    <tr>\n",
       "      <th>0</th>\n",
       "      <td>8473</td>\n",
       "      <td>Title: A Tex-Mex Gem in the Heart of NY\\n\\nRev...</td>\n",
       "      <td>1</td>\n",
       "      <td>9.9</td>\n",
       "      <td>25</td>\n",
       "      <td>67.79</td>\n",
       "      <td>11.73</td>\n",
       "      <td>20.333333</td>\n",
       "      <td>8.06</td>\n",
       "      <td>27.816364</td>\n",
       "      <td>...</td>\n",
       "      <td>34.301295</td>\n",
       "      <td>3.047547</td>\n",
       "      <td>-95.0</td>\n",
       "      <td>-95.0</td>\n",
       "      <td>-5.004369</td>\n",
       "      <td>-2.242933</td>\n",
       "      <td>-0.480481</td>\n",
       "      <td>-0.482286</td>\n",
       "      <td>130.353531</td>\n",
       "      <td>0.587173</td>\n",
       "    </tr>\n",
       "    <tr>\n",
       "      <th>1</th>\n",
       "      <td>19945</td>\n",
       "      <td>On my third day of my birthday tour lands me t...</td>\n",
       "      <td>0</td>\n",
       "      <td>7.5</td>\n",
       "      <td>23</td>\n",
       "      <td>73.98</td>\n",
       "      <td>7.80</td>\n",
       "      <td>14.166667</td>\n",
       "      <td>11.59</td>\n",
       "      <td>100.894390</td>\n",
       "      <td>...</td>\n",
       "      <td>3.618031</td>\n",
       "      <td>4.733772</td>\n",
       "      <td>-26.0</td>\n",
       "      <td>-67.0</td>\n",
       "      <td>-0.525627</td>\n",
       "      <td>-2.499774</td>\n",
       "      <td>-0.703449</td>\n",
       "      <td>-0.568242</td>\n",
       "      <td>139.818117</td>\n",
       "      <td>0.076204</td>\n",
       "    </tr>\n",
       "    <tr>\n",
       "      <th>2</th>\n",
       "      <td>18034</td>\n",
       "      <td>Title: A Delightful Dive into Familiar Flavors...</td>\n",
       "      <td>1</td>\n",
       "      <td>14.3</td>\n",
       "      <td>62</td>\n",
       "      <td>51.58</td>\n",
       "      <td>12.65</td>\n",
       "      <td>19.636364</td>\n",
       "      <td>17.44</td>\n",
       "      <td>40.648610</td>\n",
       "      <td>...</td>\n",
       "      <td>166.413024</td>\n",
       "      <td>5.490789</td>\n",
       "      <td>-24.0</td>\n",
       "      <td>-88.0</td>\n",
       "      <td>-1.897878</td>\n",
       "      <td>-6.765047</td>\n",
       "      <td>-0.468379</td>\n",
       "      <td>-0.471397</td>\n",
       "      <td>144.065948</td>\n",
       "      <td>0.710159</td>\n",
       "    </tr>\n",
       "    <tr>\n",
       "      <th>3</th>\n",
       "      <td>12483</td>\n",
       "      <td>Everything about this spot is rave worthy. My ...</td>\n",
       "      <td>0</td>\n",
       "      <td>7.8</td>\n",
       "      <td>36</td>\n",
       "      <td>79.90</td>\n",
       "      <td>8.28</td>\n",
       "      <td>16.666667</td>\n",
       "      <td>16.26</td>\n",
       "      <td>55.507442</td>\n",
       "      <td>...</td>\n",
       "      <td>87.969265</td>\n",
       "      <td>0.314994</td>\n",
       "      <td>0.0</td>\n",
       "      <td>-67.0</td>\n",
       "      <td>-0.970034</td>\n",
       "      <td>-2.759893</td>\n",
       "      <td>-0.748109</td>\n",
       "      <td>-0.664823</td>\n",
       "      <td>147.795895</td>\n",
       "      <td>0.043302</td>\n",
       "    </tr>\n",
       "    <tr>\n",
       "      <th>4</th>\n",
       "      <td>20613</td>\n",
       "      <td>As someone who isn't typically enamored with p...</td>\n",
       "      <td>1</td>\n",
       "      <td>13.1</td>\n",
       "      <td>26</td>\n",
       "      <td>50.57</td>\n",
       "      <td>14.45</td>\n",
       "      <td>20.600000</td>\n",
       "      <td>7.79</td>\n",
       "      <td>20.933323</td>\n",
       "      <td>...</td>\n",
       "      <td>116.635027</td>\n",
       "      <td>4.674918</td>\n",
       "      <td>0.0</td>\n",
       "      <td>-94.0</td>\n",
       "      <td>-16.995421</td>\n",
       "      <td>-1.717933</td>\n",
       "      <td>-0.473619</td>\n",
       "      <td>-0.444959</td>\n",
       "      <td>105.577576</td>\n",
       "      <td>0.367126</td>\n",
       "    </tr>\n",
       "  </tbody>\n",
       "</table>\n",
       "<p>5 rows × 25 columns</p>\n",
       "</div>"
      ]
     },
     "execution_count": 11,
     "metadata": {},
     "output_type": "execute_result"
    }
   ],
   "execution_count": 11
  },
  {
   "metadata": {
    "ExecuteTime": {
     "end_time": "2025-04-25T15:59:30.115166Z",
     "start_time": "2025-04-25T15:59:30.108100Z"
    }
   },
   "cell_type": "code",
   "source": "val_df.shape",
   "id": "90b37b34cafb6864",
   "outputs": [
    {
     "data": {
      "text/plain": [
       "(4028, 25)"
      ]
     },
     "execution_count": 12,
     "metadata": {},
     "output_type": "execute_result"
    }
   ],
   "execution_count": 12
  },
  {
   "metadata": {
    "ExecuteTime": {
     "end_time": "2025-04-25T15:59:30.300757Z",
     "start_time": "2025-04-25T15:59:30.293664Z"
    }
   },
   "cell_type": "code",
   "source": [
    "val_auth_df = val_df[val_df['label'] == 0]\n",
    "val_auth_df.shape\n",
    "# validation dataset is balanced"
   ],
   "id": "6651c4bd0d478aad",
   "outputs": [
    {
     "data": {
      "text/plain": [
       "(2019, 25)"
      ]
     },
     "execution_count": 13,
     "metadata": {},
     "output_type": "execute_result"
    }
   ],
   "execution_count": 13
  },
  {
   "metadata": {},
   "cell_type": "markdown",
   "source": [
    "Training dataset: 12086 rows\n",
    "\n",
    "Test dataset: 4030 rows\n",
    "\n",
    "Validation dataset: 4028 rows\n",
    "\n",
    "Total of 20144\n",
    "\n",
    "All have 25 columns/features\n",
    "Each dataset is balanced ~50% are labeled authentic, ~50% are labeled ai generated"
   ],
   "id": "84fe832e42538931"
  },
  {
   "metadata": {},
   "cell_type": "markdown",
   "source": [
    "### Process Images\n",
    "Prepare images so we can combine the text features with the image features"
   ],
   "id": "e9af4c0ea09379fa"
  },
  {
   "metadata": {
    "ExecuteTime": {
     "end_time": "2025-04-25T15:59:30.754418Z",
     "start_time": "2025-04-25T15:59:30.481926Z"
    }
   },
   "cell_type": "code",
   "source": [
    "import os\n",
    "from PIL import Image\n",
    "from sklearn.preprocessing import StandardScaler"
   ],
   "id": "5cb68b5d8caee491",
   "outputs": [],
   "execution_count": 14
  },
  {
   "metadata": {
    "ExecuteTime": {
     "end_time": "2025-04-25T15:59:30.862990Z",
     "start_time": "2025-04-25T15:59:30.854310Z"
    }
   },
   "cell_type": "code",
   "source": [
    "# ------------ Configuration -----------------\n",
    "image_folder = \"images\"\n",
    "img_size = (32, 32)\n",
    "\n",
    "\n",
    "# ----------------- Extract Image Features ----------------\n",
    "def load_image_features(df, img_folder = image_folder):\n",
    "    image_features = []\n",
    "    for idx in df['ID']:\n",
    "        img_path = os.path.join(img_folder, f\"{idx}.jpg\")\n",
    "        with Image.open(img_path) as img:\n",
    "            img = img.resize(img_size)\n",
    "            img = img.convert('L')\n",
    "            img_array = np.array(img).flatten()\n",
    "            image_features.append(img_array)\n",
    "    return np.array(image_features)"
   ],
   "id": "b21978b3ec462f89",
   "outputs": [],
   "execution_count": 15
  },
  {
   "metadata": {
    "ExecuteTime": {
     "end_time": "2025-04-25T15:59:30.976499Z",
     "start_time": "2025-04-25T15:59:30.969140Z"
    }
   },
   "cell_type": "code",
   "source": [
    "# Want to exclude ID, label, and text because they are not used in numerical model\n",
    "text_features_cols = train_df.columns.difference(['ID', 'label', 'text'])\n",
    "print(text_features_cols)"
   ],
   "id": "618b36b910c72f0c",
   "outputs": [
    {
     "name": "stdout",
     "output_type": "stream",
     "text": [
      "Index(['automated_readability_index', 'bright', 'cd', 'clar', 'colorf', 'cont',\n",
      "       'diag_dom', 'difficult_words', 'flesch_reading_ease', 'gunning_fog',\n",
      "       'hcvb', 'hpvb', 'ppl', 'reading_time', 'rot', 'sat', 'sd', 'td', 'vcvb',\n",
      "       'vpvb', 'warm', 'words_per_sentence'],\n",
      "      dtype='object')\n"
     ]
    }
   ],
   "execution_count": 16
  },
  {
   "metadata": {
    "ExecuteTime": {
     "end_time": "2025-04-25T15:59:31.071101Z",
     "start_time": "2025-04-25T15:59:31.059365Z"
    }
   },
   "cell_type": "code",
   "source": [
    "# ------------- Extract text features -------------------------\n",
    "x_train_text = train_df[text_features_cols].values\n",
    "x_test_text = test_df[text_features_cols].values\n",
    "x_val_text = val_df[text_features_cols].values"
   ],
   "id": "b94df1261b812ec1",
   "outputs": [],
   "execution_count": 17
  },
  {
   "metadata": {
    "ExecuteTime": {
     "end_time": "2025-04-25T16:05:21.527543Z",
     "start_time": "2025-04-25T15:59:31.214326Z"
    }
   },
   "cell_type": "code",
   "source": [
    "# Load Image Features\n",
    "x_train_img_features = load_image_features(train_df, image_folder)\n",
    "x_test_img_features = load_image_features(test_df, image_folder)\n",
    "x_val_img_features = load_image_features(val_df, image_folder)"
   ],
   "id": "3d11a33d78346f3",
   "outputs": [],
   "execution_count": 18
  },
  {
   "metadata": {
    "ExecuteTime": {
     "end_time": "2025-04-25T16:05:21.786288Z",
     "start_time": "2025-04-25T16:05:21.670226Z"
    }
   },
   "cell_type": "code",
   "source": [
    "# ------------------ Combine text & image features -----------------\n",
    "x_train = np.concatenate([x_train_text, x_train_img_features], axis = 1)\n",
    "x_test = np.concatenate([x_test_text, x_test_img_features], axis = 1)\n",
    "x_val = np.concatenate([x_val_text, x_val_img_features], axis = 1)\n",
    "\n",
    "x_train_df = pd.DataFrame(x_train)\n",
    "# x_train_df.to_csv('x_train.csv', index=False)\n",
    "\n",
    "y_train = train_df['label'].values\n",
    "y_test = test_df['label'].values\n",
    "y_val = val_df['label'].values"
   ],
   "id": "618e3ca87f1fe7f7",
   "outputs": [],
   "execution_count": 19
  },
  {
   "metadata": {
    "ExecuteTime": {
     "end_time": "2025-04-25T16:05:21.936858Z",
     "start_time": "2025-04-25T16:05:21.926668Z"
    }
   },
   "cell_type": "code",
   "source": [
    "y_train_df = pd.DataFrame(y_train)\n",
    "y_train_df.head()"
   ],
   "id": "cd7068747e90da1d",
   "outputs": [
    {
     "data": {
      "text/plain": [
       "   0\n",
       "0  0\n",
       "1  1\n",
       "2  1\n",
       "3  1\n",
       "4  1"
      ],
      "text/html": [
       "<div>\n",
       "<style scoped>\n",
       "    .dataframe tbody tr th:only-of-type {\n",
       "        vertical-align: middle;\n",
       "    }\n",
       "\n",
       "    .dataframe tbody tr th {\n",
       "        vertical-align: top;\n",
       "    }\n",
       "\n",
       "    .dataframe thead th {\n",
       "        text-align: right;\n",
       "    }\n",
       "</style>\n",
       "<table border=\"1\" class=\"dataframe\">\n",
       "  <thead>\n",
       "    <tr style=\"text-align: right;\">\n",
       "      <th></th>\n",
       "      <th>0</th>\n",
       "    </tr>\n",
       "  </thead>\n",
       "  <tbody>\n",
       "    <tr>\n",
       "      <th>0</th>\n",
       "      <td>0</td>\n",
       "    </tr>\n",
       "    <tr>\n",
       "      <th>1</th>\n",
       "      <td>1</td>\n",
       "    </tr>\n",
       "    <tr>\n",
       "      <th>2</th>\n",
       "      <td>1</td>\n",
       "    </tr>\n",
       "    <tr>\n",
       "      <th>3</th>\n",
       "      <td>1</td>\n",
       "    </tr>\n",
       "    <tr>\n",
       "      <th>4</th>\n",
       "      <td>1</td>\n",
       "    </tr>\n",
       "  </tbody>\n",
       "</table>\n",
       "</div>"
      ]
     },
     "execution_count": 20,
     "metadata": {},
     "output_type": "execute_result"
    }
   ],
   "execution_count": 20
  },
  {
   "metadata": {
    "ExecuteTime": {
     "end_time": "2025-04-25T16:05:22.829411Z",
     "start_time": "2025-04-25T16:05:22.074994Z"
    }
   },
   "cell_type": "code",
   "source": [
    "# -------------- Normalize Features ------------------\n",
    "scaler = StandardScaler()\n",
    "X_train = scaler.fit_transform(x_train)\n",
    "X_val = scaler.transform(x_val)\n",
    "X_test = scaler.transform(x_test)"
   ],
   "id": "5ba9fad9f2b5fe2d",
   "outputs": [],
   "execution_count": 21
  },
  {
   "metadata": {},
   "cell_type": "markdown",
   "source": [
    "### DECISION TREE CLASSIFIER\n",
    "Perform the following using Decision Tree classifier with up to 2 levels of tree and 5 nodes as a weak classifier. (Decision tree classifier can be used from sklearn)"
   ],
   "id": "7b9e252cdee513ad"
  },
  {
   "metadata": {
    "ExecuteTime": {
     "end_time": "2025-04-25T16:05:25.919193Z",
     "start_time": "2025-04-25T16:05:22.871797Z"
    }
   },
   "cell_type": "code",
   "source": [
    "from sklearn.tree import DecisionTreeClassifier\n",
    "from sklearn.metrics import accuracy_score, precision_score, recall_score, f1_score, classification_report, confusion_matrix\n",
    "weak_dt_classifier = DecisionTreeClassifier(max_depth=2, max_leaf_nodes=5)"
   ],
   "id": "60ed88a53a405ae2",
   "outputs": [],
   "execution_count": 22
  },
  {
   "metadata": {
    "ExecuteTime": {
     "end_time": "2025-04-25T16:05:28.229192Z",
     "start_time": "2025-04-25T16:05:25.938367Z"
    }
   },
   "cell_type": "code",
   "source": [
    "# Train decision tree\n",
    "weak_dt_classifier.fit(X_train, y_train)"
   ],
   "id": "1d42673315f16a76",
   "outputs": [
    {
     "data": {
      "text/plain": [
       "DecisionTreeClassifier(max_depth=2, max_leaf_nodes=5)"
      ],
      "text/html": [
       "<style>#sk-container-id-1 {\n",
       "  /* Definition of color scheme common for light and dark mode */\n",
       "  --sklearn-color-text: #000;\n",
       "  --sklearn-color-text-muted: #666;\n",
       "  --sklearn-color-line: gray;\n",
       "  /* Definition of color scheme for unfitted estimators */\n",
       "  --sklearn-color-unfitted-level-0: #fff5e6;\n",
       "  --sklearn-color-unfitted-level-1: #f6e4d2;\n",
       "  --sklearn-color-unfitted-level-2: #ffe0b3;\n",
       "  --sklearn-color-unfitted-level-3: chocolate;\n",
       "  /* Definition of color scheme for fitted estimators */\n",
       "  --sklearn-color-fitted-level-0: #f0f8ff;\n",
       "  --sklearn-color-fitted-level-1: #d4ebff;\n",
       "  --sklearn-color-fitted-level-2: #b3dbfd;\n",
       "  --sklearn-color-fitted-level-3: cornflowerblue;\n",
       "\n",
       "  /* Specific color for light theme */\n",
       "  --sklearn-color-text-on-default-background: var(--sg-text-color, var(--theme-code-foreground, var(--jp-content-font-color1, black)));\n",
       "  --sklearn-color-background: var(--sg-background-color, var(--theme-background, var(--jp-layout-color0, white)));\n",
       "  --sklearn-color-border-box: var(--sg-text-color, var(--theme-code-foreground, var(--jp-content-font-color1, black)));\n",
       "  --sklearn-color-icon: #696969;\n",
       "\n",
       "  @media (prefers-color-scheme: dark) {\n",
       "    /* Redefinition of color scheme for dark theme */\n",
       "    --sklearn-color-text-on-default-background: var(--sg-text-color, var(--theme-code-foreground, var(--jp-content-font-color1, white)));\n",
       "    --sklearn-color-background: var(--sg-background-color, var(--theme-background, var(--jp-layout-color0, #111)));\n",
       "    --sklearn-color-border-box: var(--sg-text-color, var(--theme-code-foreground, var(--jp-content-font-color1, white)));\n",
       "    --sklearn-color-icon: #878787;\n",
       "  }\n",
       "}\n",
       "\n",
       "#sk-container-id-1 {\n",
       "  color: var(--sklearn-color-text);\n",
       "}\n",
       "\n",
       "#sk-container-id-1 pre {\n",
       "  padding: 0;\n",
       "}\n",
       "\n",
       "#sk-container-id-1 input.sk-hidden--visually {\n",
       "  border: 0;\n",
       "  clip: rect(1px 1px 1px 1px);\n",
       "  clip: rect(1px, 1px, 1px, 1px);\n",
       "  height: 1px;\n",
       "  margin: -1px;\n",
       "  overflow: hidden;\n",
       "  padding: 0;\n",
       "  position: absolute;\n",
       "  width: 1px;\n",
       "}\n",
       "\n",
       "#sk-container-id-1 div.sk-dashed-wrapped {\n",
       "  border: 1px dashed var(--sklearn-color-line);\n",
       "  margin: 0 0.4em 0.5em 0.4em;\n",
       "  box-sizing: border-box;\n",
       "  padding-bottom: 0.4em;\n",
       "  background-color: var(--sklearn-color-background);\n",
       "}\n",
       "\n",
       "#sk-container-id-1 div.sk-container {\n",
       "  /* jupyter's `normalize.less` sets `[hidden] { display: none; }`\n",
       "     but bootstrap.min.css set `[hidden] { display: none !important; }`\n",
       "     so we also need the `!important` here to be able to override the\n",
       "     default hidden behavior on the sphinx rendered scikit-learn.org.\n",
       "     See: https://github.com/scikit-learn/scikit-learn/issues/21755 */\n",
       "  display: inline-block !important;\n",
       "  position: relative;\n",
       "}\n",
       "\n",
       "#sk-container-id-1 div.sk-text-repr-fallback {\n",
       "  display: none;\n",
       "}\n",
       "\n",
       "div.sk-parallel-item,\n",
       "div.sk-serial,\n",
       "div.sk-item {\n",
       "  /* draw centered vertical line to link estimators */\n",
       "  background-image: linear-gradient(var(--sklearn-color-text-on-default-background), var(--sklearn-color-text-on-default-background));\n",
       "  background-size: 2px 100%;\n",
       "  background-repeat: no-repeat;\n",
       "  background-position: center center;\n",
       "}\n",
       "\n",
       "/* Parallel-specific style estimator block */\n",
       "\n",
       "#sk-container-id-1 div.sk-parallel-item::after {\n",
       "  content: \"\";\n",
       "  width: 100%;\n",
       "  border-bottom: 2px solid var(--sklearn-color-text-on-default-background);\n",
       "  flex-grow: 1;\n",
       "}\n",
       "\n",
       "#sk-container-id-1 div.sk-parallel {\n",
       "  display: flex;\n",
       "  align-items: stretch;\n",
       "  justify-content: center;\n",
       "  background-color: var(--sklearn-color-background);\n",
       "  position: relative;\n",
       "}\n",
       "\n",
       "#sk-container-id-1 div.sk-parallel-item {\n",
       "  display: flex;\n",
       "  flex-direction: column;\n",
       "}\n",
       "\n",
       "#sk-container-id-1 div.sk-parallel-item:first-child::after {\n",
       "  align-self: flex-end;\n",
       "  width: 50%;\n",
       "}\n",
       "\n",
       "#sk-container-id-1 div.sk-parallel-item:last-child::after {\n",
       "  align-self: flex-start;\n",
       "  width: 50%;\n",
       "}\n",
       "\n",
       "#sk-container-id-1 div.sk-parallel-item:only-child::after {\n",
       "  width: 0;\n",
       "}\n",
       "\n",
       "/* Serial-specific style estimator block */\n",
       "\n",
       "#sk-container-id-1 div.sk-serial {\n",
       "  display: flex;\n",
       "  flex-direction: column;\n",
       "  align-items: center;\n",
       "  background-color: var(--sklearn-color-background);\n",
       "  padding-right: 1em;\n",
       "  padding-left: 1em;\n",
       "}\n",
       "\n",
       "\n",
       "/* Toggleable style: style used for estimator/Pipeline/ColumnTransformer box that is\n",
       "clickable and can be expanded/collapsed.\n",
       "- Pipeline and ColumnTransformer use this feature and define the default style\n",
       "- Estimators will overwrite some part of the style using the `sk-estimator` class\n",
       "*/\n",
       "\n",
       "/* Pipeline and ColumnTransformer style (default) */\n",
       "\n",
       "#sk-container-id-1 div.sk-toggleable {\n",
       "  /* Default theme specific background. It is overwritten whether we have a\n",
       "  specific estimator or a Pipeline/ColumnTransformer */\n",
       "  background-color: var(--sklearn-color-background);\n",
       "}\n",
       "\n",
       "/* Toggleable label */\n",
       "#sk-container-id-1 label.sk-toggleable__label {\n",
       "  cursor: pointer;\n",
       "  display: flex;\n",
       "  width: 100%;\n",
       "  margin-bottom: 0;\n",
       "  padding: 0.5em;\n",
       "  box-sizing: border-box;\n",
       "  text-align: center;\n",
       "  align-items: start;\n",
       "  justify-content: space-between;\n",
       "  gap: 0.5em;\n",
       "}\n",
       "\n",
       "#sk-container-id-1 label.sk-toggleable__label .caption {\n",
       "  font-size: 0.6rem;\n",
       "  font-weight: lighter;\n",
       "  color: var(--sklearn-color-text-muted);\n",
       "}\n",
       "\n",
       "#sk-container-id-1 label.sk-toggleable__label-arrow:before {\n",
       "  /* Arrow on the left of the label */\n",
       "  content: \"▸\";\n",
       "  float: left;\n",
       "  margin-right: 0.25em;\n",
       "  color: var(--sklearn-color-icon);\n",
       "}\n",
       "\n",
       "#sk-container-id-1 label.sk-toggleable__label-arrow:hover:before {\n",
       "  color: var(--sklearn-color-text);\n",
       "}\n",
       "\n",
       "/* Toggleable content - dropdown */\n",
       "\n",
       "#sk-container-id-1 div.sk-toggleable__content {\n",
       "  max-height: 0;\n",
       "  max-width: 0;\n",
       "  overflow: hidden;\n",
       "  text-align: left;\n",
       "  /* unfitted */\n",
       "  background-color: var(--sklearn-color-unfitted-level-0);\n",
       "}\n",
       "\n",
       "#sk-container-id-1 div.sk-toggleable__content.fitted {\n",
       "  /* fitted */\n",
       "  background-color: var(--sklearn-color-fitted-level-0);\n",
       "}\n",
       "\n",
       "#sk-container-id-1 div.sk-toggleable__content pre {\n",
       "  margin: 0.2em;\n",
       "  border-radius: 0.25em;\n",
       "  color: var(--sklearn-color-text);\n",
       "  /* unfitted */\n",
       "  background-color: var(--sklearn-color-unfitted-level-0);\n",
       "}\n",
       "\n",
       "#sk-container-id-1 div.sk-toggleable__content.fitted pre {\n",
       "  /* unfitted */\n",
       "  background-color: var(--sklearn-color-fitted-level-0);\n",
       "}\n",
       "\n",
       "#sk-container-id-1 input.sk-toggleable__control:checked~div.sk-toggleable__content {\n",
       "  /* Expand drop-down */\n",
       "  max-height: 200px;\n",
       "  max-width: 100%;\n",
       "  overflow: auto;\n",
       "}\n",
       "\n",
       "#sk-container-id-1 input.sk-toggleable__control:checked~label.sk-toggleable__label-arrow:before {\n",
       "  content: \"▾\";\n",
       "}\n",
       "\n",
       "/* Pipeline/ColumnTransformer-specific style */\n",
       "\n",
       "#sk-container-id-1 div.sk-label input.sk-toggleable__control:checked~label.sk-toggleable__label {\n",
       "  color: var(--sklearn-color-text);\n",
       "  background-color: var(--sklearn-color-unfitted-level-2);\n",
       "}\n",
       "\n",
       "#sk-container-id-1 div.sk-label.fitted input.sk-toggleable__control:checked~label.sk-toggleable__label {\n",
       "  background-color: var(--sklearn-color-fitted-level-2);\n",
       "}\n",
       "\n",
       "/* Estimator-specific style */\n",
       "\n",
       "/* Colorize estimator box */\n",
       "#sk-container-id-1 div.sk-estimator input.sk-toggleable__control:checked~label.sk-toggleable__label {\n",
       "  /* unfitted */\n",
       "  background-color: var(--sklearn-color-unfitted-level-2);\n",
       "}\n",
       "\n",
       "#sk-container-id-1 div.sk-estimator.fitted input.sk-toggleable__control:checked~label.sk-toggleable__label {\n",
       "  /* fitted */\n",
       "  background-color: var(--sklearn-color-fitted-level-2);\n",
       "}\n",
       "\n",
       "#sk-container-id-1 div.sk-label label.sk-toggleable__label,\n",
       "#sk-container-id-1 div.sk-label label {\n",
       "  /* The background is the default theme color */\n",
       "  color: var(--sklearn-color-text-on-default-background);\n",
       "}\n",
       "\n",
       "/* On hover, darken the color of the background */\n",
       "#sk-container-id-1 div.sk-label:hover label.sk-toggleable__label {\n",
       "  color: var(--sklearn-color-text);\n",
       "  background-color: var(--sklearn-color-unfitted-level-2);\n",
       "}\n",
       "\n",
       "/* Label box, darken color on hover, fitted */\n",
       "#sk-container-id-1 div.sk-label.fitted:hover label.sk-toggleable__label.fitted {\n",
       "  color: var(--sklearn-color-text);\n",
       "  background-color: var(--sklearn-color-fitted-level-2);\n",
       "}\n",
       "\n",
       "/* Estimator label */\n",
       "\n",
       "#sk-container-id-1 div.sk-label label {\n",
       "  font-family: monospace;\n",
       "  font-weight: bold;\n",
       "  display: inline-block;\n",
       "  line-height: 1.2em;\n",
       "}\n",
       "\n",
       "#sk-container-id-1 div.sk-label-container {\n",
       "  text-align: center;\n",
       "}\n",
       "\n",
       "/* Estimator-specific */\n",
       "#sk-container-id-1 div.sk-estimator {\n",
       "  font-family: monospace;\n",
       "  border: 1px dotted var(--sklearn-color-border-box);\n",
       "  border-radius: 0.25em;\n",
       "  box-sizing: border-box;\n",
       "  margin-bottom: 0.5em;\n",
       "  /* unfitted */\n",
       "  background-color: var(--sklearn-color-unfitted-level-0);\n",
       "}\n",
       "\n",
       "#sk-container-id-1 div.sk-estimator.fitted {\n",
       "  /* fitted */\n",
       "  background-color: var(--sklearn-color-fitted-level-0);\n",
       "}\n",
       "\n",
       "/* on hover */\n",
       "#sk-container-id-1 div.sk-estimator:hover {\n",
       "  /* unfitted */\n",
       "  background-color: var(--sklearn-color-unfitted-level-2);\n",
       "}\n",
       "\n",
       "#sk-container-id-1 div.sk-estimator.fitted:hover {\n",
       "  /* fitted */\n",
       "  background-color: var(--sklearn-color-fitted-level-2);\n",
       "}\n",
       "\n",
       "/* Specification for estimator info (e.g. \"i\" and \"?\") */\n",
       "\n",
       "/* Common style for \"i\" and \"?\" */\n",
       "\n",
       ".sk-estimator-doc-link,\n",
       "a:link.sk-estimator-doc-link,\n",
       "a:visited.sk-estimator-doc-link {\n",
       "  float: right;\n",
       "  font-size: smaller;\n",
       "  line-height: 1em;\n",
       "  font-family: monospace;\n",
       "  background-color: var(--sklearn-color-background);\n",
       "  border-radius: 1em;\n",
       "  height: 1em;\n",
       "  width: 1em;\n",
       "  text-decoration: none !important;\n",
       "  margin-left: 0.5em;\n",
       "  text-align: center;\n",
       "  /* unfitted */\n",
       "  border: var(--sklearn-color-unfitted-level-1) 1pt solid;\n",
       "  color: var(--sklearn-color-unfitted-level-1);\n",
       "}\n",
       "\n",
       ".sk-estimator-doc-link.fitted,\n",
       "a:link.sk-estimator-doc-link.fitted,\n",
       "a:visited.sk-estimator-doc-link.fitted {\n",
       "  /* fitted */\n",
       "  border: var(--sklearn-color-fitted-level-1) 1pt solid;\n",
       "  color: var(--sklearn-color-fitted-level-1);\n",
       "}\n",
       "\n",
       "/* On hover */\n",
       "div.sk-estimator:hover .sk-estimator-doc-link:hover,\n",
       ".sk-estimator-doc-link:hover,\n",
       "div.sk-label-container:hover .sk-estimator-doc-link:hover,\n",
       ".sk-estimator-doc-link:hover {\n",
       "  /* unfitted */\n",
       "  background-color: var(--sklearn-color-unfitted-level-3);\n",
       "  color: var(--sklearn-color-background);\n",
       "  text-decoration: none;\n",
       "}\n",
       "\n",
       "div.sk-estimator.fitted:hover .sk-estimator-doc-link.fitted:hover,\n",
       ".sk-estimator-doc-link.fitted:hover,\n",
       "div.sk-label-container:hover .sk-estimator-doc-link.fitted:hover,\n",
       ".sk-estimator-doc-link.fitted:hover {\n",
       "  /* fitted */\n",
       "  background-color: var(--sklearn-color-fitted-level-3);\n",
       "  color: var(--sklearn-color-background);\n",
       "  text-decoration: none;\n",
       "}\n",
       "\n",
       "/* Span, style for the box shown on hovering the info icon */\n",
       ".sk-estimator-doc-link span {\n",
       "  display: none;\n",
       "  z-index: 9999;\n",
       "  position: relative;\n",
       "  font-weight: normal;\n",
       "  right: .2ex;\n",
       "  padding: .5ex;\n",
       "  margin: .5ex;\n",
       "  width: min-content;\n",
       "  min-width: 20ex;\n",
       "  max-width: 50ex;\n",
       "  color: var(--sklearn-color-text);\n",
       "  box-shadow: 2pt 2pt 4pt #999;\n",
       "  /* unfitted */\n",
       "  background: var(--sklearn-color-unfitted-level-0);\n",
       "  border: .5pt solid var(--sklearn-color-unfitted-level-3);\n",
       "}\n",
       "\n",
       ".sk-estimator-doc-link.fitted span {\n",
       "  /* fitted */\n",
       "  background: var(--sklearn-color-fitted-level-0);\n",
       "  border: var(--sklearn-color-fitted-level-3);\n",
       "}\n",
       "\n",
       ".sk-estimator-doc-link:hover span {\n",
       "  display: block;\n",
       "}\n",
       "\n",
       "/* \"?\"-specific style due to the `<a>` HTML tag */\n",
       "\n",
       "#sk-container-id-1 a.estimator_doc_link {\n",
       "  float: right;\n",
       "  font-size: 1rem;\n",
       "  line-height: 1em;\n",
       "  font-family: monospace;\n",
       "  background-color: var(--sklearn-color-background);\n",
       "  border-radius: 1rem;\n",
       "  height: 1rem;\n",
       "  width: 1rem;\n",
       "  text-decoration: none;\n",
       "  /* unfitted */\n",
       "  color: var(--sklearn-color-unfitted-level-1);\n",
       "  border: var(--sklearn-color-unfitted-level-1) 1pt solid;\n",
       "}\n",
       "\n",
       "#sk-container-id-1 a.estimator_doc_link.fitted {\n",
       "  /* fitted */\n",
       "  border: var(--sklearn-color-fitted-level-1) 1pt solid;\n",
       "  color: var(--sklearn-color-fitted-level-1);\n",
       "}\n",
       "\n",
       "/* On hover */\n",
       "#sk-container-id-1 a.estimator_doc_link:hover {\n",
       "  /* unfitted */\n",
       "  background-color: var(--sklearn-color-unfitted-level-3);\n",
       "  color: var(--sklearn-color-background);\n",
       "  text-decoration: none;\n",
       "}\n",
       "\n",
       "#sk-container-id-1 a.estimator_doc_link.fitted:hover {\n",
       "  /* fitted */\n",
       "  background-color: var(--sklearn-color-fitted-level-3);\n",
       "}\n",
       "</style><div id=\"sk-container-id-1\" class=\"sk-top-container\"><div class=\"sk-text-repr-fallback\"><pre>DecisionTreeClassifier(max_depth=2, max_leaf_nodes=5)</pre><b>In a Jupyter environment, please rerun this cell to show the HTML representation or trust the notebook. <br />On GitHub, the HTML representation is unable to render, please try loading this page with nbviewer.org.</b></div><div class=\"sk-container\" hidden><div class=\"sk-item\"><div class=\"sk-estimator fitted sk-toggleable\"><input class=\"sk-toggleable__control sk-hidden--visually\" id=\"sk-estimator-id-1\" type=\"checkbox\" checked><label for=\"sk-estimator-id-1\" class=\"sk-toggleable__label fitted sk-toggleable__label-arrow\"><div><div>DecisionTreeClassifier</div></div><div><a class=\"sk-estimator-doc-link fitted\" rel=\"noreferrer\" target=\"_blank\" href=\"https://scikit-learn.org/1.6/modules/generated/sklearn.tree.DecisionTreeClassifier.html\">?<span>Documentation for DecisionTreeClassifier</span></a><span class=\"sk-estimator-doc-link fitted\">i<span>Fitted</span></span></div></label><div class=\"sk-toggleable__content fitted\"><pre>DecisionTreeClassifier(max_depth=2, max_leaf_nodes=5)</pre></div> </div></div></div></div>"
      ]
     },
     "execution_count": 23,
     "metadata": {},
     "output_type": "execute_result"
    }
   ],
   "execution_count": 23
  },
  {
   "metadata": {
    "ExecuteTime": {
     "end_time": "2025-04-25T16:05:28.445316Z",
     "start_time": "2025-04-25T16:05:28.355783Z"
    }
   },
   "cell_type": "code",
   "source": [
    "# Make Predictions\n",
    "x_train_pred = weak_dt_classifier.predict(X_train)\n",
    "x_test_pred = weak_dt_classifier.predict(X_test)"
   ],
   "id": "7e70403bb6165d32",
   "outputs": [],
   "execution_count": 24
  },
  {
   "metadata": {
    "ExecuteTime": {
     "end_time": "2025-04-25T16:05:28.586652Z",
     "start_time": "2025-04-25T16:05:28.578331Z"
    }
   },
   "cell_type": "code",
   "source": [
    "# Evaluate performance\n",
    "print(x_train_pred)\n",
    "print(y_train)"
   ],
   "id": "f82e1b0ae9e08755",
   "outputs": [
    {
     "name": "stdout",
     "output_type": "stream",
     "text": [
      "[0 1 1 ... 0 0 0]\n",
      "[0 1 1 ... 0 0 0]\n"
     ]
    }
   ],
   "execution_count": 25
  },
  {
   "metadata": {
    "ExecuteTime": {
     "end_time": "2025-04-25T16:05:28.700053Z",
     "start_time": "2025-04-25T16:05:28.691513Z"
    }
   },
   "cell_type": "code",
   "source": [
    "print(\"Training Accuracy: \", accuracy_score(y_train, x_train_pred))\n",
    "print(\"Test Accuracy: \", accuracy_score(y_test, x_test_pred))"
   ],
   "id": "f9b740b083dec01c",
   "outputs": [
    {
     "name": "stdout",
     "output_type": "stream",
     "text": [
      "Training Accuracy:  0.9357934800595731\n",
      "Test Accuracy:  0.9277915632754342\n"
     ]
    }
   ],
   "execution_count": 26
  },
  {
   "metadata": {
    "ExecuteTime": {
     "end_time": "2025-04-25T16:05:28.995247Z",
     "start_time": "2025-04-25T16:05:28.971927Z"
    }
   },
   "cell_type": "code",
   "source": [
    "print(\"Classification Report (Train Set):\")\n",
    "print(classification_report(y_train, x_train_pred, target_names = [\"Authentic\", \"AI-generated\"]))"
   ],
   "id": "de609e77b5f26c85",
   "outputs": [
    {
     "name": "stdout",
     "output_type": "stream",
     "text": [
      "Classification Report (Train Set):\n",
      "              precision    recall  f1-score   support\n",
      "\n",
      "   Authentic       0.92      0.95      0.94      6138\n",
      "AI-generated       0.95      0.92      0.93      5948\n",
      "\n",
      "    accuracy                           0.94     12086\n",
      "   macro avg       0.94      0.94      0.94     12086\n",
      "weighted avg       0.94      0.94      0.94     12086\n",
      "\n"
     ]
    }
   ],
   "execution_count": 27
  },
  {
   "metadata": {},
   "cell_type": "markdown",
   "source": [
    "### ADABOOST CLASSIFIER\n",
    "Implement a function for AdaBoost Algorithm which should take N, Train, Test as its parameter. Here N determines the number of rounds of Boosting, Train for Training set. and Test for Testing Set."
   ],
   "id": "191620c605ae636d"
  },
  {
   "metadata": {
    "ExecuteTime": {
     "end_time": "2025-04-25T16:05:29.750133Z",
     "start_time": "2025-04-25T16:05:29.016201Z"
    }
   },
   "cell_type": "code",
   "source": [
    "from sklearn.ensemble import AdaBoostClassifier\n",
    "from sklearn.model_selection import KFold"
   ],
   "id": "c9a7d1ece254ef68",
   "outputs": [],
   "execution_count": 28
  },
  {
   "metadata": {
    "ExecuteTime": {
     "end_time": "2025-04-25T16:05:29.899287Z",
     "start_time": "2025-04-25T16:05:29.883439Z"
    }
   },
   "cell_type": "code",
   "source": [
    "def adaboost_train_predict(N, x_train, y_train, x_test, y_test):\n",
    "    n_train = x_train.shape[0] \n",
    "    weights = np.ones(n_train) / n_train # all weights start out equal at beginning\n",
    "    \n",
    "    classifiers = [] # store each weak classifier\n",
    "    alphas = [] # weights of each classifier\n",
    "    \n",
    "    for i in range(N): # repeat N times, each time is a boosting round\n",
    "        weak_classifier = DecisionTreeClassifier(max_depth=2, max_leaf_nodes=5, random_state=42)\n",
    "        \n",
    "        # training weak classifier with current sample weights\n",
    "        weak_classifier.fit(x_train, y_train, sample_weight=weights)\n",
    "        y_pred = weak_classifier.predict(x_train)\n",
    "        \n",
    "        # find which samples are wrong\n",
    "        incorrect = (y_pred != y_train)\n",
    "        \n",
    "        # calculate weighted error\n",
    "        errors = np.sum(weights * incorrect) # wrong predictions matter more if sample weight is high\n",
    "        if errors == 0:\n",
    "            errors = 1e-10 # avoid dividing by 0 if perfect accuracy\n",
    "            \n",
    "        # compute alpha = influence of this classifier\n",
    "        alpha = 0.5 * np.log((1 - errors) / errors)\n",
    "        \n",
    "        # updating sample weights\n",
    "        # incorrectly classified samples get more weight, which will be focused on next round\n",
    "        weights *= np.exp(alpha * incorrect * 2)\n",
    "        weights /= np.sum(weights) # normalize to sum to 1\n",
    "        \n",
    "        # save this round's classifier and it's weights\n",
    "        classifiers.append(weak_classifier)\n",
    "        alphas.append(alpha)\n",
    "\n",
    "    # function to combine all weak learners into final prediction        \n",
    "    def predict(x):\n",
    "        final_preds = sum(alpha * weak_classifier.predict(x) for weak_classifier, alpha in zip(classifiers, alphas))\n",
    "        # weighted vote: if results > 50% of total alpha, predict 1, else 0\n",
    "        return (final_preds > 0.5 * sum(alphas)).astype(int)\n",
    "    \n",
    "    #make final predictions on training and test tests\n",
    "    x_train_pred = predict(x_train)\n",
    "    x_test_pred = predict(x_test)\n",
    "    \n",
    "    #evaluating accuracy\n",
    "    train_accuracy = accuracy_score(y_train, x_train_pred)\n",
    "    test_accuracy = accuracy_score(y_test, x_test_pred)\n",
    "    \n",
    "    return {\n",
    "        'x_train_pred': x_train_pred,\n",
    "        'x_test_pred': x_test_pred,\n",
    "        'train_accuracy': train_accuracy,\n",
    "        'test_accuracy': test_accuracy,\n",
    "        'train_error': 1 - train_accuracy,\n",
    "        'test_error': 1 - test_accuracy\n",
    "    }"
   ],
   "id": "aa2c04d5cd1301ff",
   "outputs": [],
   "execution_count": 29
  },
  {
   "metadata": {},
   "cell_type": "markdown",
   "source": [
    "### 5 fold Cross-Validation\n",
    "Use 5 fold Cross validation (both stratified and unstratified) for Training Set and report Mean and Standard deviation of accuracy and error rate. Compute accuracy, precision, recall, and F1-score.\n"
   ],
   "id": "45d5dfcb5b8df362"
  },
  {
   "metadata": {
    "ExecuteTime": {
     "end_time": "2025-04-25T16:05:30.047471Z",
     "start_time": "2025-04-25T16:05:30.038481Z"
    }
   },
   "cell_type": "code",
   "source": [
    "from sklearn.model_selection import StratifiedKFold\n",
    "from sklearn.metrics import accuracy_score, precision_score, recall_score, f1_score\n",
    "import numpy as np"
   ],
   "id": "d5f576f5634c0db3",
   "outputs": [],
   "execution_count": 30
  },
  {
   "metadata": {
    "ExecuteTime": {
     "end_time": "2025-04-25T16:05:30.204386Z",
     "start_time": "2025-04-25T16:05:30.192838Z"
    }
   },
   "cell_type": "code",
   "source": [
    "def evaluate_adaboost_cv(x, y, n_rounds=10, n_splits = 5):\n",
    "    \"\"\"\n",
    "    \n",
    "    :param x: feature matrix (in our case, text features + image)\n",
    "    :param y: labels (0 for authentic, 1 for AI-generated)\n",
    "    :param n_rounds: Number of boosting rounds (how many weak classifiers to combine)\n",
    "    :param n_splits: Number of cross-validation folds (5 in our case, can vary if needed)\n",
    "    :return: dictionary containing mean and std of accuracy, precision, recall, and f1-score\n",
    "    \"\"\"\n",
    "    \n",
    "    skf = StratifiedKFold(n_splits=n_splits, shuffle=True, random_state=42)\n",
    "    \n",
    "    # dictionary storing metrics\n",
    "    metrics = {\n",
    "        'accuracy': [],\n",
    "        'precision': [],\n",
    "        'recall': [],\n",
    "        'f1_score': []\n",
    "    }\n",
    "    \n",
    "    # cross validation\n",
    "    for fold, (train_index, test_index) in enumerate(skf.split(x, y)):\n",
    "        print(f'\\nFold {fold + 1}/{n_splits}')\n",
    "        \n",
    "        # split data into training and testing sets for this fold\n",
    "        x_train_cv, x_test_cv = x[train_index], x[test_index]\n",
    "        y_train_cv, y_test_cv = y[train_index], y[test_index]\n",
    "        \n",
    "        # train adaboost and get predictions for both train and test sets\n",
    "        result = adaboost_train_predict(n_rounds, x_train_cv, y_train_cv, x_test_cv, y_test_cv)\n",
    "        y_pred_cv = result['x_test_pred']\n",
    "        \n",
    "        # calc metrics for this fold\n",
    "        accuracy = accuracy_score(y_test_cv, y_pred_cv)\n",
    "        precision = precision_score(y_test_cv, y_pred_cv)\n",
    "        recall = recall_score(y_test_cv, y_pred_cv)\n",
    "        f1 = f1_score(y_test_cv, y_pred_cv)\n",
    "        \n",
    "        # save metrics for average later\n",
    "        metrics['accuracy'].append(accuracy)\n",
    "        metrics['precision'].append(precision)\n",
    "        metrics['recall'].append(recall)\n",
    "        metrics['f1_score'].append(f1)\n",
    "        \n",
    "        print(f'Accuracy: {accuracy}, Precision: {precision}, Recall: {recall}, F1-Score: {f1}')\n",
    "        \n",
    "    # Print mean and std deviation of metrics across all folds\n",
    "    print(f'=============== Cross-Validation Summary ===============')\n",
    "    for key in metrics:\n",
    "        scores = metrics[key]\n",
    "        print(f'{key.capitalize()}: Mean = {np.mean(scores):.4f}, Std = {np.std(scores):.4f}')\n",
    "\n",
    "    return metrics\n"
   ],
   "id": "cb2e481043a4438c",
   "outputs": [],
   "execution_count": 31
  },
  {
   "metadata": {
    "ExecuteTime": {
     "end_time": "2025-04-25T16:06:21.127186Z",
     "start_time": "2025-04-25T16:05:30.313953Z"
    }
   },
   "cell_type": "code",
   "source": "dt_adaboost_metrics = evaluate_adaboost_cv(x_train, y_train)",
   "id": "7781ff432f5aefa7",
   "outputs": [
    {
     "name": "stdout",
     "output_type": "stream",
     "text": [
      "\n",
      "Fold 1/5\n",
      "Accuracy: 0.989247311827957, Precision: 0.9874371859296482, Recall: 0.9907563025210084, F1-Score: 0.9890939597315436\n",
      "\n",
      "Fold 2/5\n",
      "Accuracy: 0.9875879189077369, Precision: 0.9817123857024106, Recall: 0.9932716568544996, F1-Score: 0.9874581939799331\n",
      "\n",
      "Fold 3/5\n",
      "Accuracy: 0.9904840711625983, Precision: 0.9882747068676717, Recall: 0.992430613961312, F1-Score: 0.990348300461603\n",
      "\n",
      "Fold 4/5\n",
      "Accuracy: 0.9913115432354158, Precision: 0.9907640638119227, Recall: 0.9915966386554622, F1-Score: 0.991180176396472\n",
      "\n",
      "Fold 5/5\n",
      "Accuracy: 0.9867604468349194, Precision: 0.9948717948717949, Recall: 0.9781512605042016, F1-Score: 0.9864406779661017\n",
      "=============== Cross-Validation Summary ===============\n",
      "Accuracy: Mean = 0.9891, Std = 0.0017\n",
      "Precision: Mean = 0.9886, Std = 0.0043\n",
      "Recall: Mean = 0.9892, Std = 0.0056\n",
      "F1_score: Mean = 0.9889, Std = 0.0018\n"
     ]
    }
   ],
   "execution_count": 32
  },
  {
   "metadata": {
    "ExecuteTime": {
     "end_time": "2025-04-25T16:06:21.210684Z",
     "start_time": "2025-04-25T16:06:21.204738Z"
    }
   },
   "cell_type": "code",
   "source": [
    "def evaluate_adaboost_unstrat_cv(x, y, n_rounds=10, n_splits = 5):\n",
    "    \"\"\"\n",
    "    \n",
    "    :param x: feature matrix (in our case, text features + image)\n",
    "    :param y: labels (0 for authentic, 1 for AI-generated)\n",
    "    :param n_rounds: Number of boosting rounds (how many weak classifiers to combine)\n",
    "    :param n_splits: Number of cross-validation folds (5 in our case, can vary if needed)\n",
    "    :return: dictionary containing mean and std of accuracy, precision, recall, and f1-score\n",
    "    \"\"\"\n",
    "\n",
    "    kf = KFold(n_splits=n_splits, shuffle=True, random_state=42)\n",
    "\n",
    "    # dictionary storing metrics\n",
    "    metrics = {\n",
    "        'accuracy': [],\n",
    "        'precision': [],\n",
    "        'recall': [],\n",
    "        'f1_score': []\n",
    "    }\n",
    "\n",
    "    # cross validation\n",
    "    for fold, (train_index, test_index) in enumerate(kf.split(x)):\n",
    "        print(f'\\nFold {fold + 1}/{n_splits}')\n",
    "\n",
    "        # split data into training and testing sets for this fold\n",
    "        x_train_cv, x_test_cv = x[train_index], x[test_index]\n",
    "        y_train_cv, y_test_cv = y[train_index], y[test_index]\n",
    "\n",
    "        # train adaboost and get predictions for both train and test sets\n",
    "        result = adaboost_train_predict(n_rounds, x_train_cv, y_train_cv, x_test_cv, y_test_cv)\n",
    "        y_pred_cv = result['x_test_pred']\n",
    "\n",
    "        # calc metrics for this fold\n",
    "        accuracy = accuracy_score(y_test_cv, y_pred_cv)\n",
    "        precision = precision_score(y_test_cv, y_pred_cv)\n",
    "        recall = recall_score(y_test_cv, y_pred_cv)\n",
    "        f1 = f1_score(y_test_cv, y_pred_cv)\n",
    "\n",
    "        # save metrics for average later\n",
    "        metrics['accuracy'].append(accuracy)\n",
    "        metrics['precision'].append(precision)\n",
    "        metrics['recall'].append(recall)\n",
    "        metrics['f1_score'].append(f1)\n",
    "\n",
    "        print(f'Accuracy: {accuracy}, Precision: {precision}, Recall: {recall}, F1-Score: {f1}')\n",
    "\n",
    "    # Print mean and std deviation of metrics across all folds\n",
    "    print(f'=============== Cross-Validation Summary ===============')\n",
    "    for key in metrics:\n",
    "        scores = metrics[key]\n",
    "        print(f'{key.capitalize()}: Mean = {np.mean(scores):.4f}, Std = {np.std(scores):.4f}')\n",
    "\n",
    "    return metrics"
   ],
   "id": "31291b2c617919ef",
   "outputs": [],
   "execution_count": 33
  },
  {
   "metadata": {
    "ExecuteTime": {
     "end_time": "2025-04-25T16:07:15.534029Z",
     "start_time": "2025-04-25T16:06:21.298987Z"
    }
   },
   "cell_type": "code",
   "source": "unstrat_dt_adaboost_metrics = evaluate_adaboost_unstrat_cv(x_train, y_train)",
   "id": "28bd41f67a453fdd",
   "outputs": [
    {
     "name": "stdout",
     "output_type": "stream",
     "text": [
      "\n",
      "Fold 1/5\n",
      "Accuracy: 0.9896608767576509, Precision: 0.9865996649916248, Recall: 0.9924178601516428, F1-Score: 0.9895002099958001\n",
      "\n",
      "Fold 2/5\n",
      "Accuracy: 0.989242863053372, Precision: 0.9875104079933389, Recall: 0.9908103592314118, F1-Score: 0.9891576313594662\n",
      "\n",
      "Fold 3/5\n",
      "Accuracy: 0.983864294580058, Precision: 0.9793899422918384, Recall: 0.9883527454242929, F1-Score: 0.9838509316770186\n",
      "\n",
      "Fold 4/5\n",
      "Accuracy: 0.9925527513446422, Precision: 0.990748528174937, Recall: 0.9940928270042194, F1-Score: 0.9924178601516428\n",
      "\n",
      "Fold 5/5\n",
      "Accuracy: 0.9851055026892842, Precision: 0.985531914893617, Recall: 0.983857264231096, F1-Score: 0.9846938775510204\n",
      "=============== Cross-Validation Summary ===============\n",
      "Accuracy: Mean = 0.9881, Std = 0.0032\n",
      "Precision: Mean = 0.9860, Std = 0.0037\n",
      "Recall: Mean = 0.9899, Std = 0.0036\n",
      "F1_score: Mean = 0.9879, Std = 0.0032\n"
     ]
    }
   ],
   "execution_count": 34
  },
  {
   "metadata": {},
   "cell_type": "markdown",
   "source": [
    "### Random Forest\n",
    " Train Random Forest (bagging algorithm) on the same dataset and report results on 5 fold cross validation (both stratified and unstratified). Compute accuracy, precision, recall, and F1-score"
   ],
   "id": "73765d73db89eeda"
  },
  {
   "metadata": {
    "ExecuteTime": {
     "end_time": "2025-04-25T16:07:15.698182Z",
     "start_time": "2025-04-25T16:07:15.694221Z"
    }
   },
   "cell_type": "code",
   "source": [
    "from sklearn.ensemble import RandomForestClassifier\n",
    "from sklearn.model_selection import StratifiedKFold\n",
    "from sklearn.metrics import accuracy_score, precision_score, recall_score, f1_score"
   ],
   "id": "5a8704a1988cd773",
   "outputs": [],
   "execution_count": 35
  },
  {
   "metadata": {
    "ExecuteTime": {
     "end_time": "2025-04-25T16:07:15.713666Z",
     "start_time": "2025-04-25T16:07:15.705192Z"
    }
   },
   "cell_type": "code",
   "source": [
    "def evaluate_random_forest_cv(x, y, n_splits=5, n_estimators=100, max_depth=None):\n",
    "    \"\"\"\n",
    "    \n",
    "    :param x: feature matrics (text features + image)\n",
    "    :param y: labels (0 for authentic, 1 for AI-generated)\n",
    "    :param n_splits: number of folds for cross validation\n",
    "    :param n_estimators: number for decision trees in forst\n",
    "    :param max_depth: max depth of individual trees (none = fully grown trees)\n",
    "    :return: dictionary with mean and std of accuracy, precision, recall, and f1-score\n",
    "    \"\"\"\n",
    "\n",
    "    skf = StratifiedKFold(n_splits=n_splits, shuffle=True, random_state=42)\n",
    "\n",
    "    # dictionary storing metrics\n",
    "    metrics = {\n",
    "        'accuracy': [],\n",
    "        'precision': [],\n",
    "        'recall': [],\n",
    "        'f1_score': []\n",
    "    }\n",
    "\n",
    "    # cross validation\n",
    "    for fold, (train_index, test_index) in enumerate(skf.split(x, y)):\n",
    "        print(f'\\nFold {fold + 1}/{n_splits}')\n",
    "\n",
    "        # split data into training and testing sets for this fold\n",
    "        x_train_cv, x_test_cv = x[train_index], x[test_index]\n",
    "        y_train_cv, y_test_cv = y[train_index], y[test_index]\n",
    "        \n",
    "        # create and train random forest\n",
    "        rf = RandomForestClassifier(n_estimators=n_estimators, max_depth=max_depth, random_state=42)\n",
    "        rf.fit(x_train_cv, y_train_cv)\n",
    "        \n",
    "        # predict on test fold\n",
    "        y_pred = rf.predict(x_test_cv)\n",
    "        \n",
    "        # calc and store metrics\n",
    "        accuracy = accuracy_score(y_test_cv, y_pred)\n",
    "        precision = precision_score(y_test_cv, y_pred)\n",
    "        recall = recall_score(y_test_cv, y_pred)\n",
    "        f1 = f1_score(y_test_cv, y_pred)\n",
    "        \n",
    "        metrics['accuracy'].append(accuracy)\n",
    "        metrics['precision'].append(precision)\n",
    "        metrics['recall'].append(recall)\n",
    "        metrics['f1_score'].append(f1)\n",
    "        \n",
    "        print(f'Accuracy: {accuracy}, Precision: {precision}, Recall: {recall}, F1-Score: {f1}')\n",
    "        \n",
    "    # summary\n",
    "    print(f'\\n========= Random Forest Cross-Validation Summary ===========')\n",
    "    for key in metrics:\n",
    "        scores = metrics[key]\n",
    "        print(f'{key.capitalize()}: Mean {np.mean(scores):.4f}, Std {np.std(scores):.4f}')\n",
    "        \n",
    "    return metrics\n",
    "        "
   ],
   "id": "7c5e0b2ff27408e8",
   "outputs": [],
   "execution_count": 36
  },
  {
   "metadata": {
    "ExecuteTime": {
     "end_time": "2025-04-25T16:08:41.191576Z",
     "start_time": "2025-04-25T16:07:15.803849Z"
    }
   },
   "cell_type": "code",
   "source": "random_forest_metrics = evaluate_random_forest_cv(x_train, y_train)",
   "id": "72e7430dd1bb64f7",
   "outputs": [
    {
     "name": "stdout",
     "output_type": "stream",
     "text": [
      "\n",
      "Fold 1/5\n",
      "Accuracy: 0.9735318444995864, Precision: 0.973109243697479, Recall: 0.973109243697479, F1-Score: 0.973109243697479\n",
      "\n",
      "Fold 2/5\n",
      "Accuracy: 0.9731071576334299, Precision: 0.9636963696369637, Recall: 0.9823380992430614, F1-Score: 0.9729279466888796\n",
      "\n",
      "Fold 3/5\n",
      "Accuracy: 0.971038477451386, Precision: 0.9697732997481109, Recall: 0.9714045416316233, F1-Score: 0.9705882352941176\n",
      "\n",
      "Fold 4/5\n",
      "Accuracy: 0.9706247414149772, Precision: 0.9597370583401807, Recall: 0.9815126050420168, F1-Score: 0.9705027004570004\n",
      "\n",
      "Fold 5/5\n",
      "Accuracy: 0.9764170459247, Precision: 0.9780590717299578, Recall: 0.9739495798319328, F1-Score: 0.976\n",
      "\n",
      "========= Random Forest Cross-Validation Summary ===========\n",
      "Accuracy: Mean 0.9729, Std 0.0021\n",
      "Precision: Mean 0.9689, Std 0.0065\n",
      "Recall: Mean 0.9765, Std 0.0045\n",
      "F1_score: Mean 0.9726, Std 0.0020\n"
     ]
    }
   ],
   "execution_count": 37
  },
  {
   "metadata": {
    "ExecuteTime": {
     "end_time": "2025-04-25T16:08:41.263784Z",
     "start_time": "2025-04-25T16:08:41.257204Z"
    }
   },
   "cell_type": "code",
   "source": [
    "def evaluate_random_forest_unstrat_cv(x, y, n_splits=5, n_estimators=100, max_depth=None):\n",
    "    \"\"\"\n",
    "    \n",
    "    :param x: feature matrics (text features + image)\n",
    "    :param y: labels (0 for authentic, 1 for AI-generated)\n",
    "    :param n_splits: number of folds for cross validation\n",
    "    :param n_estimators: number for decision trees in forst\n",
    "    :param max_depth: max depth of individual trees (none = fully grown trees)\n",
    "    :return: dictionary with mean and std of accuracy, precision, recall, and f1-score\n",
    "    \"\"\"\n",
    "\n",
    "    kf = KFold(n_splits=n_splits, shuffle=True, random_state=42)\n",
    "\n",
    "    # dictionary storing metrics\n",
    "    metrics = {\n",
    "        'accuracy': [],\n",
    "        'precision': [],\n",
    "        'recall': [],\n",
    "        'f1_score': []\n",
    "    }\n",
    "\n",
    "    # cross validation\n",
    "    for fold, (train_index, test_index) in enumerate(kf.split(x)):\n",
    "        print(f'\\nFold {fold + 1}/{n_splits}')\n",
    "\n",
    "        # split data into training and testing sets for this fold\n",
    "        x_train_cv, x_test_cv = x[train_index], x[test_index]\n",
    "        y_train_cv, y_test_cv = y[train_index], y[test_index]\n",
    "\n",
    "        # create and train random forest\n",
    "        rf = RandomForestClassifier(n_estimators=n_estimators, max_depth=max_depth, random_state=42)\n",
    "        rf.fit(x_train_cv, y_train_cv)\n",
    "\n",
    "        # predict on test fold\n",
    "        y_pred = rf.predict(x_test_cv)\n",
    "\n",
    "        # calc and store metrics\n",
    "        accuracy = accuracy_score(y_test_cv, y_pred)\n",
    "        precision = precision_score(y_test_cv, y_pred)\n",
    "        recall = recall_score(y_test_cv, y_pred)\n",
    "        f1 = f1_score(y_test_cv, y_pred)\n",
    "\n",
    "        metrics['accuracy'].append(accuracy)\n",
    "        metrics['precision'].append(precision)\n",
    "        metrics['recall'].append(recall)\n",
    "        metrics['f1_score'].append(f1)\n",
    "\n",
    "        print(f'Accuracy: {accuracy}, Precision: {precision}, Recall: {recall}, F1-Score: {f1}')\n",
    "\n",
    "    # summary\n",
    "    print(f'\\n========= Random Forest Cross-Validation Summary ===========')\n",
    "    for key in metrics:\n",
    "        scores = metrics[key]\n",
    "        print(f'{key.capitalize()}: Mean {np.mean(scores):.4f}, Std {np.std(scores):.4f}')\n",
    "\n",
    "    return metrics"
   ],
   "id": "b0b194b2068ac4e0",
   "outputs": [],
   "execution_count": 38
  },
  {
   "metadata": {
    "ExecuteTime": {
     "end_time": "2025-04-25T16:10:20.389338Z",
     "start_time": "2025-04-25T16:08:41.358051Z"
    }
   },
   "cell_type": "code",
   "source": "unstrat_random_forest_metrics = evaluate_random_forest_unstrat_cv(x_train, y_train)",
   "id": "7ca9ec0f828fd5a0",
   "outputs": [
    {
     "name": "stdout",
     "output_type": "stream",
     "text": [
      "\n",
      "Fold 1/5\n",
      "Accuracy: 0.9714640198511166, Precision: 0.9666110183639399, Recall: 0.9755686604886268, F1-Score: 0.9710691823899371\n",
      "\n",
      "Fold 2/5\n",
      "Accuracy: 0.9805544062887878, Precision: 0.9799666110183639, Recall: 0.9807852965747702, F1-Score: 0.9803757828810021\n",
      "\n",
      "Fold 3/5\n",
      "Accuracy: 0.9722796855606123, Precision: 0.963265306122449, Recall: 0.9816971713810316, F1-Score: 0.9723939019365472\n",
      "\n",
      "Fold 4/5\n",
      "Accuracy: 0.9718659495242036, Precision: 0.9737065309584394, Recall: 0.9687763713080169, F1-Score: 0.9712351945854484\n",
      "\n",
      "Fold 5/5\n",
      "Accuracy: 0.971038477451386, Precision: 0.9655172413793104, Recall: 0.9753610875106202, F1-Score: 0.9704142011834319\n",
      "\n",
      "========= Random Forest Cross-Validation Summary ===========\n",
      "Accuracy: Mean 0.9734, Std 0.0036\n",
      "Precision: Mean 0.9698, Std 0.0062\n",
      "Recall: Mean 0.9764, Std 0.0046\n",
      "F1_score: Mean 0.9731, Std 0.0037\n"
     ]
    }
   ],
   "execution_count": 39
  },
  {
   "metadata": {},
   "cell_type": "markdown",
   "source": [
    "### SVM\n",
    "Train SVM on the same dataset and report results on 5 fold cross validation (both stratified and unstratified). Compute accuracy, precision, recall, and F1-score"
   ],
   "id": "9786dc4639202f46"
  },
  {
   "metadata": {
    "ExecuteTime": {
     "end_time": "2025-04-25T16:10:20.497564Z",
     "start_time": "2025-04-25T16:10:20.492420Z"
    }
   },
   "cell_type": "code",
   "source": "from sklearn.svm import SVC",
   "id": "973c4ff5a171001e",
   "outputs": [],
   "execution_count": 40
  },
  {
   "metadata": {
    "ExecuteTime": {
     "end_time": "2025-04-25T16:10:20.606554Z",
     "start_time": "2025-04-25T16:10:20.595599Z"
    }
   },
   "cell_type": "code",
   "source": [
    "def evaluate_svm_cv(x, y, n_splits=5, kernel='rbf', C=1):\n",
    "    \"\"\"\n",
    "    Evaluate SVM using 5-fold cross-validation.\n",
    "    :param x: feature matrix (text features + image)\n",
    "    :param y: labels (0 for authentic, 1 for AI-generated)\n",
    "    :param n_splits: number of cross validation folds\n",
    "    :param kernel: svm kernel type ('linear', 'poly', 'rbf', 'sigmoid', etc.)\n",
    "    :param C: regularization parameter (trade off between margin width and misclassification)\n",
    "    :return: dictionary of mean and std for accuracy, precision, recall, and f1-score\n",
    "    \"\"\"\n",
    "\n",
    "    skf = StratifiedKFold(n_splits=n_splits, shuffle=True, random_state=42)\n",
    "\n",
    "    metrics = {\n",
    "        'accuracy': [],\n",
    "        'precision': [],\n",
    "        'recall': [],\n",
    "        'f1': []\n",
    "    }\n",
    "\n",
    "    for fold, (train_idx, test_idx) in enumerate(skf.split(x, y)):\n",
    "        print(f\"\\nFold {fold + 1}/{n_splits}\")\n",
    "\n",
    "        x_train_cv, x_test_cv = x[train_idx], x[test_idx]\n",
    "        y_train_cv, y_test_cv = y[train_idx], y[test_idx]\n",
    "        \n",
    "        # creating and training svm model\n",
    "        svm = SVC(kernel=kernel, C=C)\n",
    "        svm.fit(x_train_cv, y_train_cv)\n",
    "        \n",
    "        # predict on test fold\n",
    "        y_pred = svm.predict(x_test_cv)\n",
    "        \n",
    "        accuracy = accuracy_score(y_test_cv, y_pred)\n",
    "        precision = precision_score(y_test_cv, y_pred)\n",
    "        recall = recall_score(y_test_cv, y_pred)\n",
    "        f1 = f1_score(y_test_cv, y_pred)\n",
    "        \n",
    "        metrics['accuracy'].append(accuracy)\n",
    "        metrics['precision'].append(precision)\n",
    "        metrics['recall'].append(recall)\n",
    "        metrics['f1'].append(f1)\n",
    "\n",
    "        print(f'Accuracy: {accuracy}, Precision: {precision}, Recall: {recall}, F1-Score: {f1}')\n",
    "\n",
    "    # summary\n",
    "    print(f'\\n========= SVM Cross-Validation Summary ===========')\n",
    "    for key in metrics:\n",
    "        scores = metrics[key]\n",
    "        print(f'{key.capitalize()}: Mean {np.mean(scores):.4f}, Std {np.std(scores):.4f}')\n",
    "\n",
    "    return metrics\n",
    "        "
   ],
   "id": "5978c40b3fe2f7ff",
   "outputs": [],
   "execution_count": 41
  },
  {
   "metadata": {
    "ExecuteTime": {
     "end_time": "2025-04-25T16:10:21.601544Z",
     "start_time": "2025-04-25T16:10:20.721909Z"
    }
   },
   "cell_type": "code",
   "source": "evaluate_svm_cv(x_train, y_train)",
   "id": "626185f9b4b4c82c",
   "outputs": [
    {
     "name": "stdout",
     "output_type": "stream",
     "text": [
      "\n",
      "Fold 1/5\n"
     ]
    },
    {
     "ename": "ValueError",
     "evalue": "Input X contains NaN.\nSVC does not accept missing values encoded as NaN natively. For supervised learning, you might want to consider sklearn.ensemble.HistGradientBoostingClassifier and Regressor which accept missing values encoded as NaNs natively. Alternatively, it is possible to preprocess the data, for instance by using an imputer transformer in a pipeline or drop samples with missing values. See https://scikit-learn.org/stable/modules/impute.html You can find a list of all estimators that handle NaN values at the following page: https://scikit-learn.org/stable/modules/impute.html#estimators-that-handle-nan-values",
     "output_type": "error",
     "traceback": [
      "\u001B[31m---------------------------------------------------------------------------\u001B[39m",
      "\u001B[31mValueError\u001B[39m                                Traceback (most recent call last)",
      "\u001B[36mCell\u001B[39m\u001B[36m \u001B[39m\u001B[32mIn[42]\u001B[39m\u001B[32m, line 1\u001B[39m\n\u001B[32m----> \u001B[39m\u001B[32m1\u001B[39m \u001B[43mevaluate_svm_cv\u001B[49m\u001B[43m(\u001B[49m\u001B[43mx_train\u001B[49m\u001B[43m,\u001B[49m\u001B[43m \u001B[49m\u001B[43my_train\u001B[49m\u001B[43m)\u001B[49m\n",
      "\u001B[36mCell\u001B[39m\u001B[36m \u001B[39m\u001B[32mIn[41]\u001B[39m\u001B[32m, line 29\u001B[39m, in \u001B[36mevaluate_svm_cv\u001B[39m\u001B[34m(x, y, n_splits, kernel, C)\u001B[39m\n\u001B[32m     27\u001B[39m \u001B[38;5;66;03m# creating and training svm model\u001B[39;00m\n\u001B[32m     28\u001B[39m svm = SVC(kernel=kernel, C=C)\n\u001B[32m---> \u001B[39m\u001B[32m29\u001B[39m \u001B[43msvm\u001B[49m\u001B[43m.\u001B[49m\u001B[43mfit\u001B[49m\u001B[43m(\u001B[49m\u001B[43mx_train_cv\u001B[49m\u001B[43m,\u001B[49m\u001B[43m \u001B[49m\u001B[43my_train_cv\u001B[49m\u001B[43m)\u001B[49m\n\u001B[32m     31\u001B[39m \u001B[38;5;66;03m# predict on test fold\u001B[39;00m\n\u001B[32m     32\u001B[39m y_pred = svm.predict(x_test_cv)\n",
      "\u001B[36mFile \u001B[39m\u001B[32m~\\Documents\\School\\Grad\\Spring2025\\CS5644-Machine_Learning_Big_Data\\Code\\MLAssignment2\\venv\\Lib\\site-packages\\sklearn\\base.py:1389\u001B[39m, in \u001B[36m_fit_context.<locals>.decorator.<locals>.wrapper\u001B[39m\u001B[34m(estimator, *args, **kwargs)\u001B[39m\n\u001B[32m   1382\u001B[39m     estimator._validate_params()\n\u001B[32m   1384\u001B[39m \u001B[38;5;28;01mwith\u001B[39;00m config_context(\n\u001B[32m   1385\u001B[39m     skip_parameter_validation=(\n\u001B[32m   1386\u001B[39m         prefer_skip_nested_validation \u001B[38;5;129;01mor\u001B[39;00m global_skip_validation\n\u001B[32m   1387\u001B[39m     )\n\u001B[32m   1388\u001B[39m ):\n\u001B[32m-> \u001B[39m\u001B[32m1389\u001B[39m     \u001B[38;5;28;01mreturn\u001B[39;00m \u001B[43mfit_method\u001B[49m\u001B[43m(\u001B[49m\u001B[43mestimator\u001B[49m\u001B[43m,\u001B[49m\u001B[43m \u001B[49m\u001B[43m*\u001B[49m\u001B[43margs\u001B[49m\u001B[43m,\u001B[49m\u001B[43m \u001B[49m\u001B[43m*\u001B[49m\u001B[43m*\u001B[49m\u001B[43mkwargs\u001B[49m\u001B[43m)\u001B[49m\n",
      "\u001B[36mFile \u001B[39m\u001B[32m~\\Documents\\School\\Grad\\Spring2025\\CS5644-Machine_Learning_Big_Data\\Code\\MLAssignment2\\venv\\Lib\\site-packages\\sklearn\\svm\\_base.py:197\u001B[39m, in \u001B[36mBaseLibSVM.fit\u001B[39m\u001B[34m(self, X, y, sample_weight)\u001B[39m\n\u001B[32m    195\u001B[39m     check_consistent_length(X, y)\n\u001B[32m    196\u001B[39m \u001B[38;5;28;01melse\u001B[39;00m:\n\u001B[32m--> \u001B[39m\u001B[32m197\u001B[39m     X, y = \u001B[43mvalidate_data\u001B[49m\u001B[43m(\u001B[49m\n\u001B[32m    198\u001B[39m \u001B[43m        \u001B[49m\u001B[38;5;28;43mself\u001B[39;49m\u001B[43m,\u001B[49m\n\u001B[32m    199\u001B[39m \u001B[43m        \u001B[49m\u001B[43mX\u001B[49m\u001B[43m,\u001B[49m\n\u001B[32m    200\u001B[39m \u001B[43m        \u001B[49m\u001B[43my\u001B[49m\u001B[43m,\u001B[49m\n\u001B[32m    201\u001B[39m \u001B[43m        \u001B[49m\u001B[43mdtype\u001B[49m\u001B[43m=\u001B[49m\u001B[43mnp\u001B[49m\u001B[43m.\u001B[49m\u001B[43mfloat64\u001B[49m\u001B[43m,\u001B[49m\n\u001B[32m    202\u001B[39m \u001B[43m        \u001B[49m\u001B[43morder\u001B[49m\u001B[43m=\u001B[49m\u001B[33;43m\"\u001B[39;49m\u001B[33;43mC\u001B[39;49m\u001B[33;43m\"\u001B[39;49m\u001B[43m,\u001B[49m\n\u001B[32m    203\u001B[39m \u001B[43m        \u001B[49m\u001B[43maccept_sparse\u001B[49m\u001B[43m=\u001B[49m\u001B[33;43m\"\u001B[39;49m\u001B[33;43mcsr\u001B[39;49m\u001B[33;43m\"\u001B[39;49m\u001B[43m,\u001B[49m\n\u001B[32m    204\u001B[39m \u001B[43m        \u001B[49m\u001B[43maccept_large_sparse\u001B[49m\u001B[43m=\u001B[49m\u001B[38;5;28;43;01mFalse\u001B[39;49;00m\u001B[43m,\u001B[49m\n\u001B[32m    205\u001B[39m \u001B[43m    \u001B[49m\u001B[43m)\u001B[49m\n\u001B[32m    207\u001B[39m y = \u001B[38;5;28mself\u001B[39m._validate_targets(y)\n\u001B[32m    209\u001B[39m sample_weight = np.asarray(\n\u001B[32m    210\u001B[39m     [] \u001B[38;5;28;01mif\u001B[39;00m sample_weight \u001B[38;5;129;01mis\u001B[39;00m \u001B[38;5;28;01mNone\u001B[39;00m \u001B[38;5;28;01melse\u001B[39;00m sample_weight, dtype=np.float64\n\u001B[32m    211\u001B[39m )\n",
      "\u001B[36mFile \u001B[39m\u001B[32m~\\Documents\\School\\Grad\\Spring2025\\CS5644-Machine_Learning_Big_Data\\Code\\MLAssignment2\\venv\\Lib\\site-packages\\sklearn\\utils\\validation.py:2961\u001B[39m, in \u001B[36mvalidate_data\u001B[39m\u001B[34m(_estimator, X, y, reset, validate_separately, skip_check_array, **check_params)\u001B[39m\n\u001B[32m   2959\u001B[39m         y = check_array(y, input_name=\u001B[33m\"\u001B[39m\u001B[33my\u001B[39m\u001B[33m\"\u001B[39m, **check_y_params)\n\u001B[32m   2960\u001B[39m     \u001B[38;5;28;01melse\u001B[39;00m:\n\u001B[32m-> \u001B[39m\u001B[32m2961\u001B[39m         X, y = \u001B[43mcheck_X_y\u001B[49m\u001B[43m(\u001B[49m\u001B[43mX\u001B[49m\u001B[43m,\u001B[49m\u001B[43m \u001B[49m\u001B[43my\u001B[49m\u001B[43m,\u001B[49m\u001B[43m \u001B[49m\u001B[43m*\u001B[49m\u001B[43m*\u001B[49m\u001B[43mcheck_params\u001B[49m\u001B[43m)\u001B[49m\n\u001B[32m   2962\u001B[39m     out = X, y\n\u001B[32m   2964\u001B[39m \u001B[38;5;28;01mif\u001B[39;00m \u001B[38;5;129;01mnot\u001B[39;00m no_val_X \u001B[38;5;129;01mand\u001B[39;00m check_params.get(\u001B[33m\"\u001B[39m\u001B[33mensure_2d\u001B[39m\u001B[33m\"\u001B[39m, \u001B[38;5;28;01mTrue\u001B[39;00m):\n",
      "\u001B[36mFile \u001B[39m\u001B[32m~\\Documents\\School\\Grad\\Spring2025\\CS5644-Machine_Learning_Big_Data\\Code\\MLAssignment2\\venv\\Lib\\site-packages\\sklearn\\utils\\validation.py:1370\u001B[39m, in \u001B[36mcheck_X_y\u001B[39m\u001B[34m(X, y, accept_sparse, accept_large_sparse, dtype, order, copy, force_writeable, force_all_finite, ensure_all_finite, ensure_2d, allow_nd, multi_output, ensure_min_samples, ensure_min_features, y_numeric, estimator)\u001B[39m\n\u001B[32m   1364\u001B[39m     \u001B[38;5;28;01mraise\u001B[39;00m \u001B[38;5;167;01mValueError\u001B[39;00m(\n\u001B[32m   1365\u001B[39m         \u001B[33mf\u001B[39m\u001B[33m\"\u001B[39m\u001B[38;5;132;01m{\u001B[39;00mestimator_name\u001B[38;5;132;01m}\u001B[39;00m\u001B[33m requires y to be passed, but the target y is None\u001B[39m\u001B[33m\"\u001B[39m\n\u001B[32m   1366\u001B[39m     )\n\u001B[32m   1368\u001B[39m ensure_all_finite = _deprecate_force_all_finite(force_all_finite, ensure_all_finite)\n\u001B[32m-> \u001B[39m\u001B[32m1370\u001B[39m X = \u001B[43mcheck_array\u001B[49m\u001B[43m(\u001B[49m\n\u001B[32m   1371\u001B[39m \u001B[43m    \u001B[49m\u001B[43mX\u001B[49m\u001B[43m,\u001B[49m\n\u001B[32m   1372\u001B[39m \u001B[43m    \u001B[49m\u001B[43maccept_sparse\u001B[49m\u001B[43m=\u001B[49m\u001B[43maccept_sparse\u001B[49m\u001B[43m,\u001B[49m\n\u001B[32m   1373\u001B[39m \u001B[43m    \u001B[49m\u001B[43maccept_large_sparse\u001B[49m\u001B[43m=\u001B[49m\u001B[43maccept_large_sparse\u001B[49m\u001B[43m,\u001B[49m\n\u001B[32m   1374\u001B[39m \u001B[43m    \u001B[49m\u001B[43mdtype\u001B[49m\u001B[43m=\u001B[49m\u001B[43mdtype\u001B[49m\u001B[43m,\u001B[49m\n\u001B[32m   1375\u001B[39m \u001B[43m    \u001B[49m\u001B[43morder\u001B[49m\u001B[43m=\u001B[49m\u001B[43morder\u001B[49m\u001B[43m,\u001B[49m\n\u001B[32m   1376\u001B[39m \u001B[43m    \u001B[49m\u001B[43mcopy\u001B[49m\u001B[43m=\u001B[49m\u001B[43mcopy\u001B[49m\u001B[43m,\u001B[49m\n\u001B[32m   1377\u001B[39m \u001B[43m    \u001B[49m\u001B[43mforce_writeable\u001B[49m\u001B[43m=\u001B[49m\u001B[43mforce_writeable\u001B[49m\u001B[43m,\u001B[49m\n\u001B[32m   1378\u001B[39m \u001B[43m    \u001B[49m\u001B[43mensure_all_finite\u001B[49m\u001B[43m=\u001B[49m\u001B[43mensure_all_finite\u001B[49m\u001B[43m,\u001B[49m\n\u001B[32m   1379\u001B[39m \u001B[43m    \u001B[49m\u001B[43mensure_2d\u001B[49m\u001B[43m=\u001B[49m\u001B[43mensure_2d\u001B[49m\u001B[43m,\u001B[49m\n\u001B[32m   1380\u001B[39m \u001B[43m    \u001B[49m\u001B[43mallow_nd\u001B[49m\u001B[43m=\u001B[49m\u001B[43mallow_nd\u001B[49m\u001B[43m,\u001B[49m\n\u001B[32m   1381\u001B[39m \u001B[43m    \u001B[49m\u001B[43mensure_min_samples\u001B[49m\u001B[43m=\u001B[49m\u001B[43mensure_min_samples\u001B[49m\u001B[43m,\u001B[49m\n\u001B[32m   1382\u001B[39m \u001B[43m    \u001B[49m\u001B[43mensure_min_features\u001B[49m\u001B[43m=\u001B[49m\u001B[43mensure_min_features\u001B[49m\u001B[43m,\u001B[49m\n\u001B[32m   1383\u001B[39m \u001B[43m    \u001B[49m\u001B[43mestimator\u001B[49m\u001B[43m=\u001B[49m\u001B[43mestimator\u001B[49m\u001B[43m,\u001B[49m\n\u001B[32m   1384\u001B[39m \u001B[43m    \u001B[49m\u001B[43minput_name\u001B[49m\u001B[43m=\u001B[49m\u001B[33;43m\"\u001B[39;49m\u001B[33;43mX\u001B[39;49m\u001B[33;43m\"\u001B[39;49m\u001B[43m,\u001B[49m\n\u001B[32m   1385\u001B[39m \u001B[43m\u001B[49m\u001B[43m)\u001B[49m\n\u001B[32m   1387\u001B[39m y = _check_y(y, multi_output=multi_output, y_numeric=y_numeric, estimator=estimator)\n\u001B[32m   1389\u001B[39m check_consistent_length(X, y)\n",
      "\u001B[36mFile \u001B[39m\u001B[32m~\\Documents\\School\\Grad\\Spring2025\\CS5644-Machine_Learning_Big_Data\\Code\\MLAssignment2\\venv\\Lib\\site-packages\\sklearn\\utils\\validation.py:1107\u001B[39m, in \u001B[36mcheck_array\u001B[39m\u001B[34m(array, accept_sparse, accept_large_sparse, dtype, order, copy, force_writeable, force_all_finite, ensure_all_finite, ensure_non_negative, ensure_2d, allow_nd, ensure_min_samples, ensure_min_features, estimator, input_name)\u001B[39m\n\u001B[32m   1101\u001B[39m     \u001B[38;5;28;01mraise\u001B[39;00m \u001B[38;5;167;01mValueError\u001B[39;00m(\n\u001B[32m   1102\u001B[39m         \u001B[33m\"\u001B[39m\u001B[33mFound array with dim \u001B[39m\u001B[38;5;132;01m%d\u001B[39;00m\u001B[33m. \u001B[39m\u001B[38;5;132;01m%s\u001B[39;00m\u001B[33m expected <= 2.\u001B[39m\u001B[33m\"\u001B[39m\n\u001B[32m   1103\u001B[39m         % (array.ndim, estimator_name)\n\u001B[32m   1104\u001B[39m     )\n\u001B[32m   1106\u001B[39m \u001B[38;5;28;01mif\u001B[39;00m ensure_all_finite:\n\u001B[32m-> \u001B[39m\u001B[32m1107\u001B[39m     \u001B[43m_assert_all_finite\u001B[49m\u001B[43m(\u001B[49m\n\u001B[32m   1108\u001B[39m \u001B[43m        \u001B[49m\u001B[43marray\u001B[49m\u001B[43m,\u001B[49m\n\u001B[32m   1109\u001B[39m \u001B[43m        \u001B[49m\u001B[43minput_name\u001B[49m\u001B[43m=\u001B[49m\u001B[43minput_name\u001B[49m\u001B[43m,\u001B[49m\n\u001B[32m   1110\u001B[39m \u001B[43m        \u001B[49m\u001B[43mestimator_name\u001B[49m\u001B[43m=\u001B[49m\u001B[43mestimator_name\u001B[49m\u001B[43m,\u001B[49m\n\u001B[32m   1111\u001B[39m \u001B[43m        \u001B[49m\u001B[43mallow_nan\u001B[49m\u001B[43m=\u001B[49m\u001B[43mensure_all_finite\u001B[49m\u001B[43m \u001B[49m\u001B[43m==\u001B[49m\u001B[43m \u001B[49m\u001B[33;43m\"\u001B[39;49m\u001B[33;43mallow-nan\u001B[39;49m\u001B[33;43m\"\u001B[39;49m\u001B[43m,\u001B[49m\n\u001B[32m   1112\u001B[39m \u001B[43m    \u001B[49m\u001B[43m)\u001B[49m\n\u001B[32m   1114\u001B[39m \u001B[38;5;28;01mif\u001B[39;00m copy:\n\u001B[32m   1115\u001B[39m     \u001B[38;5;28;01mif\u001B[39;00m _is_numpy_namespace(xp):\n\u001B[32m   1116\u001B[39m         \u001B[38;5;66;03m# only make a copy if `array` and `array_orig` may share memory`\u001B[39;00m\n",
      "\u001B[36mFile \u001B[39m\u001B[32m~\\Documents\\School\\Grad\\Spring2025\\CS5644-Machine_Learning_Big_Data\\Code\\MLAssignment2\\venv\\Lib\\site-packages\\sklearn\\utils\\validation.py:120\u001B[39m, in \u001B[36m_assert_all_finite\u001B[39m\u001B[34m(X, allow_nan, msg_dtype, estimator_name, input_name)\u001B[39m\n\u001B[32m    117\u001B[39m \u001B[38;5;28;01mif\u001B[39;00m first_pass_isfinite:\n\u001B[32m    118\u001B[39m     \u001B[38;5;28;01mreturn\u001B[39;00m\n\u001B[32m--> \u001B[39m\u001B[32m120\u001B[39m \u001B[43m_assert_all_finite_element_wise\u001B[49m\u001B[43m(\u001B[49m\n\u001B[32m    121\u001B[39m \u001B[43m    \u001B[49m\u001B[43mX\u001B[49m\u001B[43m,\u001B[49m\n\u001B[32m    122\u001B[39m \u001B[43m    \u001B[49m\u001B[43mxp\u001B[49m\u001B[43m=\u001B[49m\u001B[43mxp\u001B[49m\u001B[43m,\u001B[49m\n\u001B[32m    123\u001B[39m \u001B[43m    \u001B[49m\u001B[43mallow_nan\u001B[49m\u001B[43m=\u001B[49m\u001B[43mallow_nan\u001B[49m\u001B[43m,\u001B[49m\n\u001B[32m    124\u001B[39m \u001B[43m    \u001B[49m\u001B[43mmsg_dtype\u001B[49m\u001B[43m=\u001B[49m\u001B[43mmsg_dtype\u001B[49m\u001B[43m,\u001B[49m\n\u001B[32m    125\u001B[39m \u001B[43m    \u001B[49m\u001B[43mestimator_name\u001B[49m\u001B[43m=\u001B[49m\u001B[43mestimator_name\u001B[49m\u001B[43m,\u001B[49m\n\u001B[32m    126\u001B[39m \u001B[43m    \u001B[49m\u001B[43minput_name\u001B[49m\u001B[43m=\u001B[49m\u001B[43minput_name\u001B[49m\u001B[43m,\u001B[49m\n\u001B[32m    127\u001B[39m \u001B[43m\u001B[49m\u001B[43m)\u001B[49m\n",
      "\u001B[36mFile \u001B[39m\u001B[32m~\\Documents\\School\\Grad\\Spring2025\\CS5644-Machine_Learning_Big_Data\\Code\\MLAssignment2\\venv\\Lib\\site-packages\\sklearn\\utils\\validation.py:169\u001B[39m, in \u001B[36m_assert_all_finite_element_wise\u001B[39m\u001B[34m(X, xp, allow_nan, msg_dtype, estimator_name, input_name)\u001B[39m\n\u001B[32m    152\u001B[39m \u001B[38;5;28;01mif\u001B[39;00m estimator_name \u001B[38;5;129;01mand\u001B[39;00m input_name == \u001B[33m\"\u001B[39m\u001B[33mX\u001B[39m\u001B[33m\"\u001B[39m \u001B[38;5;129;01mand\u001B[39;00m has_nan_error:\n\u001B[32m    153\u001B[39m     \u001B[38;5;66;03m# Improve the error message on how to handle missing values in\u001B[39;00m\n\u001B[32m    154\u001B[39m     \u001B[38;5;66;03m# scikit-learn.\u001B[39;00m\n\u001B[32m    155\u001B[39m     msg_err += (\n\u001B[32m    156\u001B[39m         \u001B[33mf\u001B[39m\u001B[33m\"\u001B[39m\u001B[38;5;130;01m\\n\u001B[39;00m\u001B[38;5;132;01m{\u001B[39;00mestimator_name\u001B[38;5;132;01m}\u001B[39;00m\u001B[33m does not accept missing values\u001B[39m\u001B[33m\"\u001B[39m\n\u001B[32m    157\u001B[39m         \u001B[33m\"\u001B[39m\u001B[33m encoded as NaN natively. For supervised learning, you might want\u001B[39m\u001B[33m\"\u001B[39m\n\u001B[32m   (...)\u001B[39m\u001B[32m    167\u001B[39m         \u001B[33m\"\u001B[39m\u001B[33m#estimators-that-handle-nan-values\u001B[39m\u001B[33m\"\u001B[39m\n\u001B[32m    168\u001B[39m     )\n\u001B[32m--> \u001B[39m\u001B[32m169\u001B[39m \u001B[38;5;28;01mraise\u001B[39;00m \u001B[38;5;167;01mValueError\u001B[39;00m(msg_err)\n",
      "\u001B[31mValueError\u001B[39m: Input X contains NaN.\nSVC does not accept missing values encoded as NaN natively. For supervised learning, you might want to consider sklearn.ensemble.HistGradientBoostingClassifier and Regressor which accept missing values encoded as NaNs natively. Alternatively, it is possible to preprocess the data, for instance by using an imputer transformer in a pipeline or drop samples with missing values. See https://scikit-learn.org/stable/modules/impute.html You can find a list of all estimators that handle NaN values at the following page: https://scikit-learn.org/stable/modules/impute.html#estimators-that-handle-nan-values"
     ]
    }
   ],
   "execution_count": 42
  },
  {
   "metadata": {
    "ExecuteTime": {
     "end_time": "2025-04-25T16:22:11.255200Z",
     "start_time": "2025-04-25T16:22:11.216497Z"
    }
   },
   "cell_type": "code",
   "source": "print(\"Number of NaNs: \", np.isnan(x_train).sum())",
   "id": "f78d0f1f7fc67e32",
   "outputs": [
    {
     "name": "stdout",
     "output_type": "stream",
     "text": [
      "Number of NaNs:  86\n"
     ]
    }
   ],
   "execution_count": 43
  },
  {
   "metadata": {
    "ExecuteTime": {
     "end_time": "2025-04-25T16:22:14.030222Z",
     "start_time": "2025-04-25T16:22:13.976023Z"
    }
   },
   "cell_type": "code",
   "source": [
    "# Find which rows contain NaNs\n",
    "nan_rows = x_train_df[x_train_df.isnull().any(axis=1)]\n",
    "print(\"Rows with NaNs:\\n\", nan_rows)\n",
    "\n",
    "# See percentage of NaN-containing rows\n",
    "print(f\"Percentage of rows with NaNs: {len(nan_rows) / len(x_train_df) * 100:.2f}%\")"
   ],
   "id": "d8dea637742f390f",
   "outputs": [
    {
     "name": "stdout",
     "output_type": "stream",
     "text": [
      "Rows with NaNs:\n",
      "        0           1           2         3           4          5      6     \\\n",
      "525     4.0  146.784198         NaN  0.256142  126.572606  44.696375   -7.0   \n",
      "1192    9.0  243.527767  322.234591  0.942389   98.872866  41.573465    NaN   \n",
      "2661    4.8  175.530031         NaN  0.636389  133.940294  48.525405  -39.0   \n",
      "3165    9.8  102.110703         NaN  0.263580  144.192725  79.811225  -93.0   \n",
      "3422   15.2  184.636142         NaN  0.643086  169.988323  40.422980   -5.0   \n",
      "4103   11.1  123.041214         NaN  0.218826  152.167493  63.549944  -66.0   \n",
      "4242    5.8  139.854630         NaN  0.275000  143.868069  55.786186   -3.0   \n",
      "4295   12.5  103.853592         NaN  0.214233  147.721190  73.464022  -67.0   \n",
      "4306    5.1  151.875463         NaN  0.348611  142.921966  61.850404  -63.0   \n",
      "4363    9.9  142.778611         NaN  0.270926  163.146963  48.515792   -7.0   \n",
      "4455    5.5  157.936420         NaN  0.430556  130.587586  59.235822  -53.0   \n",
      "5337    5.1  183.122870         NaN  0.570710  151.793225  62.985511  -49.0   \n",
      "5676    4.6  243.554044   13.135530  0.960122  133.047239  28.583061    NaN   \n",
      "6318   14.0  190.555573         NaN  0.696213  130.545613  66.567125  -83.0   \n",
      "7210    7.0  232.641489  193.910732  0.915922  152.139098  42.572722    NaN   \n",
      "7359   14.3  116.520081         NaN  0.184677  167.440385  69.926764  -74.0   \n",
      "7629   12.2  118.645432         NaN  0.293320  158.796323  78.500869  -19.0   \n",
      "7745    9.3  169.596985         NaN  0.520370  147.810301  55.962690   -2.0   \n",
      "7821    6.3  239.261605   23.344140  0.936296   86.370269  33.547585    NaN   \n",
      "8077   14.6   85.654541         NaN  0.111237  146.370914  64.721341  -57.0   \n",
      "8139    6.4  152.882623         NaN  0.381481  140.781999  57.389882  -15.0   \n",
      "8192    9.7   94.342407         NaN  0.022222  114.087645  40.338138  -65.0   \n",
      "8226    3.2  170.269844         NaN  0.375811  173.349573  37.912183 -101.0   \n",
      "8394    3.8   83.557037         NaN  0.059784  159.645295  53.517582   -3.0   \n",
      "8509   10.6   84.840057         NaN  0.059799  152.649560  56.353360  -10.0   \n",
      "9445    5.7  124.619969         NaN  0.150772  121.230873  49.290939  -55.0   \n",
      "9708    6.8  119.706667         NaN  0.140370  174.836144  52.726763    0.0   \n",
      "10124   5.6  122.125154         NaN  0.094630  108.002364  40.794997  -59.0   \n",
      "10128  10.2  140.162994         NaN  0.287354  175.445154  59.359890  -79.0   \n",
      "10809   4.0  110.268920         NaN  0.179877  145.662609  68.949146    0.0   \n",
      "\n",
      "       7      8      9     ...   1036   1037   1038   1039   1040   1041  \\\n",
      "525    21.0  78.96   6.60  ...  198.0  196.0  186.0  191.0  177.0  178.0   \n",
      "1192   20.0  80.92   9.19  ...  255.0  255.0  255.0  255.0  255.0  255.0   \n",
      "2661   21.0  83.56   7.27  ...  163.0  188.0  179.0  170.0  175.0  176.0   \n",
      "3165   27.0  68.91   9.76  ...   56.0   58.0   59.0   61.0   61.0   62.0   \n",
      "3422   19.0  62.95  15.04  ...  129.0   99.0   66.0   88.0   83.0   55.0   \n",
      "4103   23.0  53.21  12.98  ...  136.0  114.0   80.0  101.0  126.0  125.0   \n",
      "4242   12.0  83.66   7.84  ...   81.0   90.0  141.0  164.0  164.0  176.0   \n",
      "4295   44.0  53.10  13.62  ...  119.0  115.0  109.0  106.0  103.0   96.0   \n",
      "4306   26.0  84.68   6.37  ...   51.0   55.0   70.0   89.0  115.0  139.0   \n",
      "4363   13.0  75.84  11.51  ...   89.0   79.0   85.0   86.0   86.0  110.0   \n",
      "4455   32.0  77.33   6.74  ...  199.0  200.0  198.0  150.0   31.0   64.0   \n",
      "5337   26.0  83.05   6.67  ...  226.0  223.0  227.0  230.0  232.0  210.0   \n",
      "5676   25.0  86.10   5.60  ...  254.0  254.0  254.0  254.0  254.0  254.0   \n",
      "6318   76.0  52.80  12.79  ...  217.0  217.0  206.0  215.0  222.0  232.0   \n",
      "7210   13.0  79.30   8.90  ...  253.0  253.0  253.0  253.0  253.0  253.0   \n",
      "7359   64.0  53.95  13.93  ...  165.0  144.0  201.0  162.0  137.0  129.0   \n",
      "7629   49.0  51.68  12.72  ...   26.0   19.0    5.0    8.0    6.0   17.0   \n",
      "7745   37.0  64.91   9.85  ...  129.0  133.0   90.0   57.0   95.0   61.0   \n",
      "7821   34.0  83.05   6.76  ...  255.0  255.0  255.0  255.0  255.0  255.0   \n",
      "8077   57.0  48.84  14.29  ...   81.0   73.0   81.0  104.0  157.0  175.0   \n",
      "8139   22.0  82.54   7.26  ...   89.0   94.0  126.0   94.0   73.0  105.0   \n",
      "8192   37.0  70.13   9.42  ...   24.0   24.0   23.0   19.0   15.0   15.0   \n",
      "8226    4.0  92.42   5.08  ...   96.0   94.0   90.0   92.0   85.0   87.0   \n",
      "8394    4.0  89.34   6.20  ...  134.0  121.0   78.0   59.0   56.0   59.0   \n",
      "8509   42.0  59.43  12.44  ...  141.0  152.0  106.0   65.0  120.0   74.0   \n",
      "9445    6.0  95.17   4.67  ...  139.0  121.0   72.0   41.0   61.0   86.0   \n",
      "9708    3.0  84.68   6.47  ...   98.0   57.0   52.0   50.0   48.0   40.0   \n",
      "10124  31.0  83.96   7.03  ...  119.0  111.0  107.0  111.0  109.0  100.0   \n",
      "10128  26.0  62.27   9.84  ...   72.0   94.0   90.0   57.0   45.0   81.0   \n",
      "10809   6.0  86.40   6.07  ...  110.0  107.0  187.0  208.0  231.0  234.0   \n",
      "\n",
      "        1042   1043   1044   1045  \n",
      "525    184.0  192.0  194.0  193.0  \n",
      "1192   255.0  255.0  255.0  255.0  \n",
      "2661   171.0  178.0  195.0  194.0  \n",
      "3165    66.0   67.0   70.0   71.0  \n",
      "3422    41.0   39.0   40.0   44.0  \n",
      "4103   117.0  127.0  115.0   94.0  \n",
      "4242   188.0  209.0  227.0  165.0  \n",
      "4295    93.0   91.0   84.0   80.0  \n",
      "4306   121.0  120.0  142.0  142.0  \n",
      "4363    77.0   88.0  164.0  181.0  \n",
      "4455   120.0  157.0  146.0  106.0  \n",
      "5337   134.0  116.0  185.0  235.0  \n",
      "5676   254.0  254.0  254.0  254.0  \n",
      "6318   213.0  219.0  214.0  211.0  \n",
      "7210   253.0  253.0  254.0  255.0  \n",
      "7359   112.0  105.0  125.0  123.0  \n",
      "7629    27.0   19.0   20.0   24.0  \n",
      "7745    75.0  118.0   86.0   76.0  \n",
      "7821   255.0  255.0  255.0  255.0  \n",
      "8077   198.0  190.0  199.0  186.0  \n",
      "8139    97.0   59.0   50.0   47.0  \n",
      "8192    15.0   14.0   16.0   19.0  \n",
      "8226    97.0   88.0   93.0   83.0  \n",
      "8394    45.0   42.0   41.0   45.0  \n",
      "8509    36.0   91.0  146.0   97.0  \n",
      "9445    95.0   97.0  105.0  111.0  \n",
      "9708    33.0   33.0   43.0   43.0  \n",
      "10124   94.0  100.0   95.0   87.0  \n",
      "10128   94.0  120.0   98.0   93.0  \n",
      "10809  142.0  129.0  143.0  201.0  \n",
      "\n",
      "[30 rows x 1046 columns]\n",
      "Percentage of rows with NaNs: 0.25%\n"
     ]
    }
   ],
   "execution_count": 44
  },
  {
   "metadata": {
    "ExecuteTime": {
     "end_time": "2025-04-25T16:22:17.468365Z",
     "start_time": "2025-04-25T16:22:17.315783Z"
    }
   },
   "cell_type": "code",
   "source": [
    "#only a small number of NaNs\n",
    "# can drop them\n",
    "\n",
    "x_train_clean = x_train_df.dropna().values\n",
    "y_train_clean = y_train[x_train_df.dropna().index]"
   ],
   "id": "dee037493921b587",
   "outputs": [],
   "execution_count": 45
  },
  {
   "metadata": {
    "ExecuteTime": {
     "end_time": "2025-04-25T16:26:28.076869Z",
     "start_time": "2025-04-25T16:22:18.554844Z"
    }
   },
   "cell_type": "code",
   "source": "svm_metrics = evaluate_svm_cv(x_train_clean, y_train_clean)",
   "id": "f31b228ac27e3756",
   "outputs": [
    {
     "name": "stdout",
     "output_type": "stream",
     "text": [
      "\n",
      "Fold 1/5\n",
      "Accuracy: 0.8101160862354893, Precision: 0.819614711033275, Recall: 0.7878787878787878, F1-Score: 0.8034334763948497\n",
      "\n",
      "Fold 2/5\n",
      "Accuracy: 0.8129406885109913, Precision: 0.8108108108108109, Recall: 0.8087615838247684, F1-Score: 0.8097849008857022\n",
      "\n",
      "Fold 3/5\n",
      "Accuracy: 0.8125259228535877, Precision: 0.8198433420365535, Recall: 0.793597304128054, F1-Score: 0.8065068493150684\n",
      "\n",
      "Fold 4/5\n",
      "Accuracy: 0.814184985483202, Precision: 0.8130287648054145, Recall: 0.8089225589225589, F1-Score: 0.810970464135021\n",
      "\n",
      "Fold 5/5\n",
      "Accuracy: 0.8075487349647449, Precision: 0.8169877408056042, Recall: 0.7853535353535354, F1-Score: 0.8008583690987124\n",
      "\n",
      "========= SVM Cross-Validation Summary ===========\n",
      "Accuracy: Mean 0.8115, Std 0.0024\n",
      "Precision: Mean 0.8161, Std 0.0036\n",
      "Recall: Mean 0.7969, Std 0.0101\n",
      "F1: Mean 0.8063, Std 0.0038\n"
     ]
    }
   ],
   "execution_count": 46
  },
  {
   "metadata": {
    "ExecuteTime": {
     "end_time": "2025-04-25T16:26:28.183384Z",
     "start_time": "2025-04-25T16:26:28.175338Z"
    }
   },
   "cell_type": "code",
   "source": [
    "def evaluate_svm_unstrat_cv(x, y, n_splits=5, kernel='rbf', C=1):\n",
    "    \"\"\"\n",
    "    Evaluate SVM using 5-fold cross-validation.\n",
    "    :param x: feature matrix (text features + image)\n",
    "    :param y: labels (0 for authentic, 1 for AI-generated)\n",
    "    :param n_splits: number of cross validation folds\n",
    "    :param kernel: svm kernel type ('linear', 'poly', 'rbf', 'sigmoid', etc.)\n",
    "    :param C: regularization parameter (trade off between margin width and misclassification)\n",
    "    :return: dictionary of mean and std for accuracy, precision, recall, and f1-score\n",
    "    \"\"\"\n",
    "\n",
    "    kf = KFold(n_splits=n_splits, shuffle=True, random_state=42)\n",
    "\n",
    "    metrics = {\n",
    "        'accuracy': [],\n",
    "        'precision': [],\n",
    "        'recall': [],\n",
    "        'f1': []\n",
    "    }\n",
    "\n",
    "    for fold, (train_idx, test_idx) in enumerate(kf.split(x)):\n",
    "        print(f\"\\nFold {fold + 1}/{n_splits}\")\n",
    "\n",
    "        x_train_cv, x_test_cv = x[train_idx], x[test_idx]\n",
    "        y_train_cv, y_test_cv = y[train_idx], y[test_idx]\n",
    "\n",
    "        # creating and training svm model\n",
    "        svm = SVC(kernel=kernel, C=C)\n",
    "        svm.fit(x_train_cv, y_train_cv)\n",
    "\n",
    "        # predict on test fold\n",
    "        y_pred = svm.predict(x_test_cv)\n",
    "\n",
    "        accuracy = accuracy_score(y_test_cv, y_pred)\n",
    "        precision = precision_score(y_test_cv, y_pred)\n",
    "        recall = recall_score(y_test_cv, y_pred)\n",
    "        f1 = f1_score(y_test_cv, y_pred)\n",
    "\n",
    "        metrics['accuracy'].append(accuracy)\n",
    "        metrics['precision'].append(precision)\n",
    "        metrics['recall'].append(recall)\n",
    "        metrics['f1'].append(f1)\n",
    "\n",
    "        print(f'Accuracy: {accuracy}, Precision: {precision}, Recall: {recall}, F1-Score: {f1}')\n",
    "\n",
    "    # summary\n",
    "    print(f'\\n========= SVM Cross-Validation Summary ===========')\n",
    "    for key in metrics:\n",
    "        scores = metrics[key]\n",
    "        print(f'{key.capitalize()}: Mean {np.mean(scores):.4f}, Std {np.std(scores):.4f}')\n",
    "\n",
    "    return metrics"
   ],
   "id": "be842c3498e993a0",
   "outputs": [],
   "execution_count": 47
  },
  {
   "metadata": {
    "ExecuteTime": {
     "end_time": "2025-04-25T16:30:35.530014Z",
     "start_time": "2025-04-25T16:26:28.296074Z"
    }
   },
   "cell_type": "code",
   "source": "unstrat_svm_metrics = evaluate_svm_unstrat_cv(x_train_clean, y_train_clean)",
   "id": "5a7c7244c13394b1",
   "outputs": [
    {
     "name": "stdout",
     "output_type": "stream",
     "text": [
      "\n",
      "Fold 1/5\n",
      "Accuracy: 0.8117744610281924, Precision: 0.8075571177504394, Recall: 0.7963604852686309, F1-Score: 0.8019197207678883\n",
      "\n",
      "Fold 2/5\n",
      "Accuracy: 0.8158440481128163, Precision: 0.8242894056847545, Recall: 0.7994987468671679, F1-Score: 0.811704834605598\n",
      "\n",
      "Fold 3/5\n",
      "Accuracy: 0.8311903774367483, Precision: 0.8449014567266495, Recall: 0.8135313531353136, F1-Score: 0.8289197141656158\n",
      "\n",
      "Fold 4/5\n",
      "Accuracy: 0.8050601410203235, Precision: 0.811704834605598, Recall: 0.7941908713692946, F1-Score: 0.8028523489932886\n",
      "\n",
      "Fold 5/5\n",
      "Accuracy: 0.8129406885109913, Precision: 0.8145231846019247, Recall: 0.7957264957264957, F1-Score: 0.8050151318633809\n",
      "\n",
      "========= SVM Cross-Validation Summary ===========\n",
      "Accuracy: Mean 0.8154, Std 0.0087\n",
      "Precision: Mean 0.8206, Std 0.0133\n",
      "Recall: Mean 0.7999, Std 0.0070\n",
      "F1: Mean 0.8101, Std 0.0100\n"
     ]
    }
   ],
   "execution_count": 48
  },
  {
   "metadata": {
    "ExecuteTime": {
     "end_time": "2025-04-25T16:30:35.560713Z",
     "start_time": "2025-04-25T16:30:35.555424Z"
    }
   },
   "cell_type": "code",
   "source": "print(unstrat_svm_metrics)",
   "id": "58abf649067f4e5a",
   "outputs": [
    {
     "name": "stdout",
     "output_type": "stream",
     "text": [
      "{'accuracy': [0.8117744610281924, 0.8158440481128163, 0.8311903774367483, 0.8050601410203235, 0.8129406885109913], 'precision': [0.8075571177504394, 0.8242894056847545, 0.8449014567266495, 0.811704834605598, 0.8145231846019247], 'recall': [0.7963604852686309, 0.7994987468671679, 0.8135313531353136, 0.7941908713692946, 0.7957264957264957], 'f1': [0.8019197207678883, 0.811704834605598, 0.8289197141656158, 0.8028523489932886, 0.8050151318633809]}\n"
     ]
    }
   ],
   "execution_count": 49
  },
  {
   "metadata": {},
   "cell_type": "markdown",
   "source": [
    "### Comparative Analysis and Interpretation\n",
    "Compare classification performance of Bagging, Boosting, and SVM using accuracy, precision, recall, and F1-score. Plot the graphs representing each of these metrics \n",
    "\n",
    "Discuss which evaluation metric is most suitable given the dataset's class distribution\n",
    "\n",
    "For each of the models, compare the performance between stratified 5-fold and unstratified 5-fold (only using the most suitable metric). Explain the intuition behind such difference in the performance. if one is higher than the other, you should explain why\n",
    "\n",
    "Explain why one model outperformed other models. Provide insights on strengths and weaknesses of each model based on your results "
   ],
   "id": "a9c1b64dcce6979e"
  },
  {
   "metadata": {
    "ExecuteTime": {
     "end_time": "2025-04-25T16:30:35.665123Z",
     "start_time": "2025-04-25T16:30:35.660961Z"
    }
   },
   "cell_type": "code",
   "source": "import seaborn as sns",
   "id": "9eb68174298ac3d4",
   "outputs": [],
   "execution_count": 50
  },
  {
   "metadata": {
    "ExecuteTime": {
     "end_time": "2025-04-25T17:33:58.927419Z",
     "start_time": "2025-04-25T17:33:58.920834Z"
    }
   },
   "cell_type": "code",
   "source": [
    "# function to summarize data it metrics lists for each model\n",
    "\n",
    "def summarize(metrics_dict, model_name, strat_name):\n",
    "    return [\n",
    "        {\n",
    "            'Model': model_name,\n",
    "            'Strategy': strat_name,\n",
    "            'Metric': metric,\n",
    "            'Score': np.mean(scores)\n",
    "        }\n",
    "        for metric, scores in metrics_dict.items()\n",
    "    ]\n",
    "\n",
    "all_metrics = []\n",
    "all_metrics += summarize(dt_adaboost_metrics, 'AdaBoost DT', strat_name='Stratified')\n",
    "all_metrics += summarize(unstrat_dt_adaboost_metrics, 'AdaBoost DT', strat_name='Unstratified')\n",
    "all_metrics += summarize(random_forest_metrics, 'Random Forest', strat_name='Stratified')\n",
    "all_metrics += summarize(unstrat_random_forest_metrics, 'Random Forest', strat_name='Unstratified')\n",
    "all_metrics += summarize(svm_metrics, 'SVM', strat_name='Stratified')\n",
    "all_metrics += summarize(unstrat_svm_metrics, 'SVM', strat_name='Unstratified')"
   ],
   "id": "886eb224289e152e",
   "outputs": [],
   "execution_count": 54
  },
  {
   "metadata": {
    "ExecuteTime": {
     "end_time": "2025-04-25T17:34:14.909700Z",
     "start_time": "2025-04-25T17:34:14.906109Z"
    }
   },
   "cell_type": "code",
   "source": "print(all_metrics)",
   "id": "43c477ee4a7bd7f2",
   "outputs": [
    {
     "name": "stdout",
     "output_type": "stream",
     "text": [
      "[{'Model': 'AdaBoost DT', 'Strategy': 'Stratified', 'Metric': 'accuracy', 'Score': np.float64(0.9890782583937255)}, {'Model': 'AdaBoost DT', 'Strategy': 'Stratified', 'Metric': 'precision', 'Score': np.float64(0.9886120274366895)}, {'Model': 'AdaBoost DT', 'Strategy': 'Stratified', 'Metric': 'recall', 'Score': np.float64(0.9892412944992968)}, {'Model': 'AdaBoost DT', 'Strategy': 'Stratified', 'Metric': 'f1_score', 'Score': np.float64(0.9889042617071307)}, {'Model': 'AdaBoost DT', 'Strategy': 'Unstratified', 'Metric': 'accuracy', 'Score': np.float64(0.9880852576850014)}, {'Model': 'AdaBoost DT', 'Strategy': 'Unstratified', 'Metric': 'precision', 'Score': np.float64(0.9859560916690713)}, {'Model': 'AdaBoost DT', 'Strategy': 'Unstratified', 'Metric': 'recall', 'Score': np.float64(0.9899062112085325)}, {'Model': 'AdaBoost DT', 'Strategy': 'Unstratified', 'Metric': 'f1_score', 'Score': np.float64(0.9879241021469897)}, {'Model': 'Random Forest', 'Strategy': 'Stratified', 'Metric': 'accuracy', 'Score': np.float64(0.9729438533848158)}, {'Model': 'Random Forest', 'Strategy': 'Stratified', 'Metric': 'precision', 'Score': np.float64(0.9688750086305384)}, {'Model': 'Random Forest', 'Strategy': 'Stratified', 'Metric': 'recall', 'Score': np.float64(0.9764628138892226)}, {'Model': 'Random Forest', 'Strategy': 'Stratified', 'Metric': 'f1_score', 'Score': np.float64(0.9726256252274954)}, {'Model': 'Random Forest', 'Strategy': 'Unstratified', 'Metric': 'accuracy', 'Score': np.float64(0.9734405077352213)}, {'Model': 'Random Forest', 'Strategy': 'Unstratified', 'Metric': 'precision', 'Score': np.float64(0.9698133415685005)}, {'Model': 'Random Forest', 'Strategy': 'Unstratified', 'Metric': 'recall', 'Score': np.float64(0.9764377174526132)}, {'Model': 'Random Forest', 'Strategy': 'Unstratified', 'Metric': 'f1_score', 'Score': np.float64(0.9730976525952733)}, {'Model': 'SVM', 'Strategy': 'Stratified', 'Metric': 'accuracy', 'Score': np.float64(0.811463283609603)}, {'Model': 'SVM', 'Strategy': 'Stratified', 'Metric': 'precision', 'Score': np.float64(0.8160570738983317)}, {'Model': 'SVM', 'Strategy': 'Stratified', 'Metric': 'recall', 'Score': np.float64(0.7969027540215409)}, {'Model': 'SVM', 'Strategy': 'Stratified', 'Metric': 'f1', 'Score': np.float64(0.8063108119658707)}, {'Model': 'SVM', 'Strategy': 'Unstratified', 'Metric': 'accuracy', 'Score': np.float64(0.8153619432218143)}, {'Model': 'SVM', 'Strategy': 'Unstratified', 'Metric': 'precision', 'Score': np.float64(0.8205951998738733)}, {'Model': 'SVM', 'Strategy': 'Unstratified', 'Metric': 'recall', 'Score': np.float64(0.7998615904733806)}, {'Model': 'SVM', 'Strategy': 'Unstratified', 'Metric': 'f1', 'Score': np.float64(0.8100823500791543)}]\n"
     ]
    }
   ],
   "execution_count": 55
  },
  {
   "metadata": {
    "ExecuteTime": {
     "end_time": "2025-04-25T17:34:46.415352Z",
     "start_time": "2025-04-25T17:34:46.410833Z"
    }
   },
   "cell_type": "code",
   "source": "df_all_metrics = pd.DataFrame(all_metrics)",
   "id": "c7accc7c140bbb9b",
   "outputs": [],
   "execution_count": 56
  },
  {
   "metadata": {
    "ExecuteTime": {
     "end_time": "2025-04-25T17:35:56.886818Z",
     "start_time": "2025-04-25T17:35:56.772947Z"
    }
   },
   "cell_type": "code",
   "source": [
    "sns.set(style='whitegrid')\n",
    "plt.figure(figsize=(12, 6))\n",
    "ax = sns.barplot(\n",
    "    data=df_all_metrics,\n",
    "    x='Metric',\n",
    "    y='Score',\n",
    "    hue='Strategy',\n",
    "    hue_order=['Unstratified', 'Stratified'],\n",
    "    palette='pastel',\n",
    "    errorbar=None,\n",
    "    dodge=True\n",
    ")\n",
    "\n",
    "# Add text labels on bars\n",
    "for container in ax.containers:\n",
    "    ax.bar_label(container, fmt='%.3f', label_type='edge', padding=3)\n",
    "\n",
    "plt.title('Stratified vs Unstratified Cross-Validation Results per Model')\n",
    "plt.ylim(0, 1.05)\n",
    "plt.ylabel('Mean Score')\n",
    "plt.xlabel('Metric')\n",
    "plt.legend(title='CV Strategy', loc='upper right')\n",
    "plt.tight_layout()\n",
    "plt.show()"
   ],
   "id": "e4e6d3ac0435d556",
   "outputs": [
    {
     "data": {
      "text/plain": [
       "<Figure size 1200x600 with 1 Axes>"
      ],
      "image/png": "[encoded data removed]"
     },
     "metadata": {},
     "output_type": "display_data"
    }
   ],
   "execution_count": 58
  },
  {
   "metadata": {
    "ExecuteTime": {
     "end_time": "2025-04-25T17:40:55.699843Z",
     "start_time": "2025-04-25T17:40:54.783044Z"
    }
   },
   "cell_type": "code",
   "source": [
    "for model in df_all_metrics['Model'].unique():\n",
    "    plt.figure(figsize=(10, 5))\n",
    "    ax = sns.barplot(\n",
    "        data=df_all_metrics[df_all_metrics['Model'] == model],\n",
    "        x='Metric',\n",
    "        y='Score',\n",
    "        hue='Strategy',\n",
    "        palette='Set2',\n",
    "        dodge=True\n",
    "    )\n",
    "    ax.set_title(f'{model} - Stratified vs Unstratified')\n",
    "    ax.set_ylim(0, 1.05)\n",
    "    ax.bar_label(ax.containers[0], fmt='%.3f')\n",
    "    ax.bar_label(ax.containers[1], fmt='%.3f')\n",
    "    plt.tight_layout()\n",
    "    plt.show()"
   ],
   "id": "9df560633b33308a",
   "outputs": [
    {
     "data": {
      "text/plain": [
       "<Figure size 1000x500 with 1 Axes>"
      ],
      "image/png": "[encoded data removed]"
     },
     "metadata": {},
     "output_type": "display_data"
    },
    {
     "data": {
      "text/plain": [
       "<Figure size 1000x500 with 1 Axes>"
      ],
      "image/png": "[encoded data removed]"
     },
     "metadata": {},
     "output_type": "display_data"
    },
    {
     "data": {
      "text/plain": [
       "<Figure size 1000x500 with 1 Axes>"
      ],
      "image/png": "[encoded data removed]"
     },
     "metadata": {},
     "output_type": "display_data"
    }
   ],
   "execution_count": 60
  }
 ],
 "metadata": {
  "kernelspec": {
   "display_name": "Python 3",
   "language": "python",
   "name": "python3"
  },
  "language_info": {
   "codemirror_mode": {
    "name": "ipython",
    "version": 2
   },
   "file_extension": ".py",
   "mimetype": "text/x-python",
   "name": "python",
   "nbconvert_exporter": "python",
   "pygments_lexer": "ipython2",
   "version": "2.7.6"
  }
 },
 "nbformat": 4,
 "nbformat_minor": 5
}
